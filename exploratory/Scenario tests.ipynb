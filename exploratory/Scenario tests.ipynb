{
 "cells": [
  {
   "cell_type": "markdown",
   "metadata": {},
   "source": [
    "# Scenario models\n",
    "\n",
    "For a delta-change in a feature (or group of features), what is the likely change in displacement?\n",
    "\n",
    "### Assumptions:\n",
    "- changes and impacts occur in year=0, year=1. \n",
    "- User-specified change can be \n",
    "  - A centered quantile value\n",
    "  - A percentage change, \n",
    "  - or even an absolute value.\n",
    "  \n",
    "\n",
    "### Set up\n",
    "Consider a limited (simplified) model to estimate elasticities"
   ]
  },
  {
   "cell_type": "code",
   "execution_count": 28,
   "metadata": {},
   "outputs": [],
   "source": [
    "import pandas as pd\n",
    "from time import time\n",
    "import os\n",
    "import json\n",
    "import pickle\n",
    "import numpy as np \n",
    "from time import time\n",
    "import statsmodels.api as sm\n",
    "import seaborn as sns\n",
    "import matplotlib.pyplot as plt"
   ]
  },
  {
   "cell_type": "markdown",
   "metadata": {},
   "source": [
    "# Data transforms\n",
    "\n",
    "<TBC>"
   ]
  },
  {
   "cell_type": "code",
   "execution_count": 29,
   "metadata": {},
   "outputs": [
    {
     "name": "stdout",
     "output_type": "stream",
     "text": [
      "Sources            : 19\n",
      "Shape              : 1016586 (rows) 6 (columns)\n",
      "Geographies        : 562\n",
      "Indicators         : 151\n",
      "Temporal coverage  : 1789 -> 2019\n",
      "Null values        : 1421\n",
      "\n",
      "Loaded data in 1.31 sec.\n",
      "Long form of size  : 35856 (rows) 153 (columns)\n"
     ]
    }
   ],
   "source": [
    "start_time = time()\n",
    "with open(\"../configuration.json\", 'rt') as infile:\n",
    "    config = json.load(infile)\n",
    "\n",
    "\n",
    "sources = [os.path.join(\"..\", config['paths']['output'], \n",
    "                        d['name'], \n",
    "                        'data.csv') for d in config['sources'] if d['name']]\n",
    "\n",
    "\n",
    "# Generate a data frame with all indicators\n",
    "df = pd.concat((pd.read_csv(f) for f in sources), sort=False, ignore_index=True)\n",
    "\n",
    "# Summary stats\n",
    "print(\"Sources            : {}\".format(len(sources)))\n",
    "print(\"Shape              : {} (rows) {} (columns)\".format(*df.shape))\n",
    "print(\"Geographies        : {}\".format(len(df['Country Name'].unique())))\n",
    "print(\"Indicators         : {}\".format(len(df['Indicator Code'].unique())))\n",
    "print(\"Temporal coverage  : {} -> {}\".format(df.year.min(), df.year.max()))\n",
    "print(\"Null values        : {}\".format(sum(df['value'].isnull())))\n",
    "\n",
    "print(\"\\nLoaded data in {:3.2f} sec.\".format(time() - start_time))\n",
    "\n",
    "\n",
    "# Now arrange data in long form\n",
    "data = pd.pivot_table(df, index=['Country Code', 'year'],\n",
    "                      columns='Indicator Code', values='value')\n",
    "\n",
    "# Consider country/year as features (and not an index)\n",
    "data.reset_index(inplace=True)\n",
    "\n",
    "print(\"Long form of size  : {} (rows) {} (columns)\".format(*data.shape))"
   ]
  },
  {
   "cell_type": "code",
   "execution_count": 30,
   "metadata": {},
   "outputs": [],
   "source": [
    "# Only look at features used in scenarios\n",
    "groupings = json.load(open(\"../groupings.json\", 'rt'))\n",
    "featureset = [i['code'] for c in groupings['clusters'] for i in c['indicators']]"
   ]
  },
  {
   "cell_type": "code",
   "execution_count": 31,
   "metadata": {},
   "outputs": [
    {
     "name": "stdout",
     "output_type": "stream",
     "text": [
      "Filtered data has 80 rows, 16 columns.\n"
     ]
    }
   ],
   "source": [
    "# Define the subset to work with\n",
    "\n",
    "countries = ['AFG', 'MMR']\n",
    "\n",
    "# Features\n",
    "idx = ['Country Code', 'year']\n",
    "mm = ['ETH.TO.{}'.format(i) for i in ['DNK', 'GBR', 'ITA', 'SAU', 'SWE', 'ZAF']]\n",
    "endo = ['UNHCR.OUT.AS', 'UNHCR.OUT.IDP', 'UNHCR.OUT.OOC', \n",
    "        'UNHCR.OUT.REF', 'UNHCR.OUT.RET', 'UNHCR.OUT.RETIDP']\n",
    "# missing entirely\n",
    "emdat = ['EMDAT.CPX.OCCURRENCE','EMDAT.CPX.TOTAL.DEATHS','EMDAT.CPX.TOTAL.AFFECTED','EMDAT.CPX.AFFECTED']\n",
    "target = ['DRC.TOT.DISP']\n",
    "allfeatures = list(set(featureset) - set(idx + mm + endo + target + emdat))\n",
    "\n",
    "mmr_data = [f for f in allfeatures if f.startswith('MMR.NSO')]\n",
    "\n",
    "features = {'AFG': list(set(allfeatures) - set(mmr_data)), 'MMR': allfeatures}\n",
    "\n",
    "# filter\n",
    "c1 = data['Country Code'].isin(countries)\n",
    "c2 = data.year >= 1980\n",
    "\n",
    "df = data.loc[c1 & c2, idx + allfeatures + target]\n",
    "print(\"Filtered data has {} rows, {} columns.\".format(*df.shape))"
   ]
  },
  {
   "cell_type": "markdown",
   "metadata": {},
   "source": [
    "# Features"
   ]
  },
  {
   "cell_type": "code",
   "execution_count": 59,
   "metadata": {},
   "outputs": [],
   "source": [
    "def lag_variables(data, var, lag):\n",
    "    \"\"\"\n",
    "    Append lagged variables to frame.\n",
    "    \n",
    "    data - pandas data frame\n",
    "    var - list of variable names to lag\n",
    "    lag - integer\n",
    "    \n",
    "    \"\"\"\n",
    "    idx_cols = ['year', 'Country Code']\n",
    "    fv = var + idx_cols\n",
    "    \n",
    "    tmp = data[fv].copy(deep=True)\n",
    "    \n",
    "    col_name = [v + \".T\" + \"{0:+}\".format(lag) for v in var]\n",
    "    \n",
    "    tmp.rename(columns={k: v for (k, v) in zip(var, col_name)},\n",
    "               inplace=True)\n",
    "    tmp.year -= lag\n",
    "    data = pd.merge(data, tmp, on=idx_cols, how='left')\n",
    "    \n",
    "    return data, col_name"
   ]
  },
  {
   "cell_type": "markdown",
   "metadata": {},
   "source": [
    "# Models"
   ]
  },
  {
   "cell_type": "code",
   "execution_count": 61,
   "metadata": {},
   "outputs": [],
   "source": [
    "df = df2.copy(deep=True)\n",
    "\n",
    "df, varname = lag_variables(df, ['DRC.TOT.DISP'], 1)"
   ]
  },
  {
   "cell_type": "code",
   "execution_count": 65,
   "metadata": {},
   "outputs": [
    {
     "data": {
      "text/plain": [
       "['DRC.TOT.DISP.T+1']"
      ]
     },
     "execution_count": 65,
     "metadata": {},
     "output_type": "execute_result"
    }
   ],
   "source": [
    "varname"
   ]
  },
  {
   "cell_type": "code",
   "execution_count": 62,
   "metadata": {},
   "outputs": [
    {
     "name": "stdout",
     "output_type": "stream",
     "text": [
      "Indicator Code\n",
      "NY.GDP.PCAP.PP.CD       23\n",
      "FP.CPI.TOTL.ZG          27\n",
      "SL.UEM.TOTL.ZS          11\n",
      "VC.BTL.DETH             10\n",
      "VDEM.FRD.POL.KILL        1\n",
      "DRC.CORR.INDEX          24\n",
      "HR.SCR.MEAN              9\n",
      "FSI.STA.LEG             26\n",
      "FSI.PUB.SER             26\n",
      "EMDAT.NAT.OCCURRENCE     1\n",
      "ER.H2O.INTR.PC          32\n",
      "SP.POP.GROW              1\n",
      "SP.URB.GROW              1\n",
      "dtype: int64\n",
      "[39]\n",
      "Country: AFG, training data: 39 rows 13 cols\n",
      "Indicator Code\n",
      "NY.GDP.PCAP.PP.CD       11\n",
      "FP.CPI.TOTL.ZG           7\n",
      "SL.UEM.TOTL.ZS          11\n",
      "VC.BTL.DETH             10\n",
      "VDEM.FRD.POL.KILL        1\n",
      "DRC.CORR.INDEX          24\n",
      "HR.SCR.MEAN              9\n",
      "FSI.STA.LEG             26\n",
      "FSI.PUB.SER             26\n",
      "EMDAT.NAT.OCCURRENCE     1\n",
      "ER.H2O.INTR.PC          32\n",
      "SP.POP.GROW              1\n",
      "SP.URB.GROW              1\n",
      "dtype: int64\n",
      "[39]\n",
      "Country: MMR, training data: 39 rows 13 cols\n"
     ]
    }
   ],
   "source": [
    "TARGETS = ['DRC.TOT.DISP']\n",
    "\n",
    "df2 = df.copy(deep=True)\n",
    "\n",
    "srcdata = {}\n",
    "for c in countries:\n",
    "    \n",
    "    c1 = df['Country Code'] == c\n",
    "    \n",
    "    X = df.loc[c1, featureset + []]\n",
    "    Y = df.loc[c1, TARGETS]\n",
    "    print(pd.isnull(X).sum())\n",
    "    \n",
    "    # handle missing labels\n",
    "    idx = ~pd.isnull(Y.values)\n",
    "    Y = Y[idx]\n",
    "    X = X[idx]\n",
    "    print(sum(idx))\n",
    "    \n",
    "    # Missing data\n",
    "    X.fillna(X.mean(), inplace=True)\n",
    "    Y.fillna(Y.mean(), inplace=True)\n",
    "    srcdata[c] = X, Y\n",
    "    \n",
    "    print(\"Country: {}, training data: {} rows {} cols\".format(c, *X.shape))\n",
    "    "
   ]
  },
  {
   "cell_type": "code",
   "execution_count": 63,
   "metadata": {},
   "outputs": [
    {
     "name": "stdout",
     "output_type": "stream",
     "text": [
      "Indicator Code\n",
      "NY.GDP.PCAP.PP.CD       0\n",
      "FP.CPI.TOTL.ZG          0\n",
      "SL.UEM.TOTL.ZS          0\n",
      "VC.BTL.DETH             0\n",
      "VDEM.FRD.POL.KILL       0\n",
      "DRC.CORR.INDEX          0\n",
      "HR.SCR.MEAN             0\n",
      "FSI.STA.LEG             0\n",
      "FSI.PUB.SER             0\n",
      "EMDAT.NAT.OCCURRENCE    0\n",
      "ER.H2O.INTR.PC          0\n",
      "SP.POP.GROW             0\n",
      "SP.URB.GROW             0\n",
      "dtype: int64\n",
      "Indicator Code\n",
      "NY.GDP.PCAP.PP.CD       0\n",
      "FP.CPI.TOTL.ZG          0\n",
      "SL.UEM.TOTL.ZS          0\n",
      "VC.BTL.DETH             0\n",
      "VDEM.FRD.POL.KILL       0\n",
      "DRC.CORR.INDEX          0\n",
      "HR.SCR.MEAN             0\n",
      "FSI.STA.LEG             0\n",
      "FSI.PUB.SER             0\n",
      "EMDAT.NAT.OCCURRENCE    0\n",
      "ER.H2O.INTR.PC          0\n",
      "SP.POP.GROW             0\n",
      "SP.URB.GROW             0\n",
      "dtype: int64\n"
     ]
    }
   ],
   "source": [
    "for c in countries:\n",
    "    c1 = df['Country Code'] == c\n",
    "    k = pd.isnull(df[c1]).sum()\n",
    "    #print(k)\n",
    "    X, Y = srcdata[c]\n",
    "    print(pd.isnull(X).sum())"
   ]
  },
  {
   "cell_type": "code",
   "execution_count": 64,
   "metadata": {},
   "outputs": [
    {
     "name": "stdout",
     "output_type": "stream",
     "text": [
      "                            OLS Regression Results                            \n",
      "==============================================================================\n",
      "Dep. Variable:           DRC.TOT.DISP   R-squared:                       0.579\n",
      "Model:                            OLS   Adj. R-squared:                  0.361\n",
      "Method:                 Least Squares   F-statistic:                     2.649\n",
      "Date:                Wed, 19 Feb 2020   Prob (F-statistic):             0.0177\n",
      "Time:                        23:04:52   Log-Likelihood:                -597.00\n",
      "No. Observations:                  39   AIC:                             1222.\n",
      "Df Residuals:                      25   BIC:                             1245.\n",
      "Df Model:                          13                                         \n",
      "Covariance Type:            nonrobust                                         \n",
      "========================================================================================\n",
      "                           coef    std err          t      P>|t|      [0.025      0.975]\n",
      "----------------------------------------------------------------------------------------\n",
      "const                 6.842e+06   1.09e+07      0.628      0.536   -1.56e+07    2.93e+07\n",
      "NY.GDP.PCAP.PP.CD    -6209.7871   3587.548     -1.731      0.096   -1.36e+04    1178.907\n",
      "FP.CPI.TOTL.ZG       -1.724e+04    5.8e+04     -0.297      0.769   -1.37e+05    1.02e+05\n",
      "SL.UEM.TOTL.ZS       -5.742e+06   1.56e+06     -3.691      0.001   -8.95e+06   -2.54e+06\n",
      "VC.BTL.DETH           -109.8199    134.884     -0.814      0.423    -387.619     167.979\n",
      "VDEM.FRD.POL.KILL    -2.571e+06   8.04e+05     -3.199      0.004   -4.23e+06   -9.16e+05\n",
      "DRC.CORR.INDEX       -1.744e+05   1.38e+05     -1.268      0.217   -4.58e+05    1.09e+05\n",
      "HR.SCR.MEAN           1.274e+06   1.53e+06      0.830      0.414   -1.89e+06    4.43e+06\n",
      "FSI.STA.LEG          -5.984e+05   1.47e+06     -0.408      0.687   -3.62e+06    2.43e+06\n",
      "FSI.PUB.SER           3.221e+06    1.3e+06      2.477      0.020    5.43e+05     5.9e+06\n",
      "EMDAT.NAT.OCCURRENCE  1.838e+04   9.37e+04      0.196      0.846   -1.75e+05    2.11e+05\n",
      "ER.H2O.INTR.PC         387.6209    615.378      0.630      0.534    -879.773    1655.015\n",
      "SP.POP.GROW            1.65e+05   5.12e+05      0.322      0.750   -8.89e+05    1.22e+06\n",
      "SP.URB.GROW          -1.756e+05   5.41e+05     -0.324      0.748   -1.29e+06     9.4e+05\n",
      "==============================================================================\n",
      "Omnibus:                        1.096   Durbin-Watson:                   1.080\n",
      "Prob(Omnibus):                  0.578   Jarque-Bera (JB):                0.346\n",
      "Skew:                          -0.113   Prob(JB):                        0.841\n",
      "Kurtosis:                       3.402   Cond. No.                     4.61e+05\n",
      "==============================================================================\n",
      "\n",
      "Warnings:\n",
      "[1] Standard Errors assume that the covariance matrix of the errors is correctly specified.\n",
      "[2] The condition number is large, 4.61e+05. This might indicate that there are\n",
      "strong multicollinearity or other numerical problems.\n",
      "                            OLS Regression Results                            \n",
      "==============================================================================\n",
      "Dep. Variable:           DRC.TOT.DISP   R-squared:                       0.915\n",
      "Model:                            OLS   Adj. R-squared:                  0.871\n",
      "Method:                 Least Squares   F-statistic:                     20.76\n",
      "Date:                Wed, 19 Feb 2020   Prob (F-statistic):           3.32e-10\n",
      "Time:                        23:04:52   Log-Likelihood:                -517.85\n",
      "No. Observations:                  39   AIC:                             1064.\n",
      "Df Residuals:                      25   BIC:                             1087.\n",
      "Df Model:                          13                                         \n",
      "Covariance Type:            nonrobust                                         \n",
      "========================================================================================\n",
      "                           coef    std err          t      P>|t|      [0.025      0.975]\n",
      "----------------------------------------------------------------------------------------\n",
      "const                 2.467e+06   3.76e+06      0.656      0.518   -5.28e+06    1.02e+07\n",
      "NY.GDP.PCAP.PP.CD      -65.4316     49.068     -1.333      0.194    -166.488      35.625\n",
      "FP.CPI.TOTL.ZG        1805.9911   2770.069      0.652      0.520   -3899.074    7511.056\n",
      "SL.UEM.TOTL.ZS        7.344e+05   3.49e+05      2.107      0.045    1.66e+04    1.45e+06\n",
      "VC.BTL.DETH             49.3828    103.096      0.479      0.636    -162.948     261.713\n",
      "VDEM.FRD.POL.KILL     2.518e+05   2.17e+05      1.161      0.256   -1.95e+05    6.98e+05\n",
      "DRC.CORR.INDEX        1.939e+04   7705.388      2.517      0.019    3521.691    3.53e+04\n",
      "HR.SCR.MEAN           1.544e+05    2.4e+05      0.645      0.525   -3.39e+05    6.48e+05\n",
      "FSI.STA.LEG          -9.047e+04   3.68e+05     -0.246      0.808   -8.48e+05    6.67e+05\n",
      "FSI.PUB.SER           4.706e+04   2.55e+05      0.185      0.855   -4.78e+05    5.72e+05\n",
      "EMDAT.NAT.OCCURRENCE  -5.25e+04   3.38e+04     -1.551      0.133   -1.22e+05    1.72e+04\n",
      "ER.H2O.INTR.PC          -3.9527     24.849     -0.159      0.875     -55.129      47.224\n",
      "SP.POP.GROW          -5.384e+05   2.03e+05     -2.652      0.014   -9.57e+05    -1.2e+05\n",
      "SP.URB.GROW          -5.249e+05    2.3e+05     -2.286      0.031   -9.98e+05   -5.21e+04\n",
      "==============================================================================\n",
      "Omnibus:                       13.216   Durbin-Watson:                   1.526\n",
      "Prob(Omnibus):                  0.001   Jarque-Bera (JB):               15.062\n",
      "Skew:                          -1.077   Prob(JB):                     0.000536\n",
      "Kurtosis:                       5.152   Cond. No.                     3.02e+06\n",
      "==============================================================================\n",
      "\n",
      "Warnings:\n",
      "[1] Standard Errors assume that the covariance matrix of the errors is correctly specified.\n",
      "[2] The condition number is large, 3.02e+06. This might indicate that there are\n",
      "strong multicollinearity or other numerical problems.\n"
     ]
    },
    {
     "name": "stderr",
     "output_type": "stream",
     "text": [
      "/Users/rahul/anaconda3/envs/mm4sight/lib/python3.7/site-packages/numpy/core/fromnumeric.py:2495: FutureWarning: Method .ptp is deprecated and will be removed in a future version. Use numpy.ptp instead.\n",
      "  return ptp(axis=axis, out=out, **kwargs)\n"
     ]
    }
   ],
   "source": [
    "models = {}\n",
    "for c in countries:\n",
    "    X, Y = srcdata[c]\n",
    "    X1 = sm.add_constant(X)\n",
    "    models[c] = sm.OLS(Y, X1)\n",
    "    result = models[c].fit()\n",
    "    print(result.summary())\n",
    "    "
   ]
  },
  {
   "cell_type": "code",
   "execution_count": 57,
   "metadata": {},
   "outputs": [
    {
     "data": {
      "text/plain": [
       "const                   2.467383e+06\n",
       "NY.GDP.PCAP.PP.CD      -6.543162e+01\n",
       "FP.CPI.TOTL.ZG          1.805991e+03\n",
       "SL.UEM.TOTL.ZS          7.343575e+05\n",
       "VC.BTL.DETH             4.938279e+01\n",
       "VDEM.FRD.POL.KILL       2.517620e+05\n",
       "DRC.CORR.INDEX          1.939123e+04\n",
       "HR.SCR.MEAN             1.544336e+05\n",
       "FSI.STA.LEG            -9.046677e+04\n",
       "FSI.PUB.SER             4.706371e+04\n",
       "EMDAT.NAT.OCCURRENCE   -5.249913e+04\n",
       "ER.H2O.INTR.PC         -3.952726e+00\n",
       "SP.POP.GROW            -5.384398e+05\n",
       "SP.URB.GROW            -5.248928e+05\n",
       "dtype: float64"
      ]
     },
     "execution_count": 57,
     "metadata": {},
     "output_type": "execute_result"
    }
   ],
   "source": [
    "result.params"
   ]
  },
  {
   "cell_type": "code",
   "execution_count": null,
   "metadata": {},
   "outputs": [],
   "source": []
  }
 ],
 "metadata": {
  "kernelspec": {
   "display_name": "mm4sight",
   "language": "python",
   "name": "mm4sight"
  },
  "language_info": {
   "codemirror_mode": {
    "name": "ipython",
    "version": 3
   },
   "file_extension": ".py",
   "mimetype": "text/x-python",
   "name": "python",
   "nbconvert_exporter": "python",
   "pygments_lexer": "ipython3",
   "version": "3.7.4"
  }
 },
 "nbformat": 4,
 "nbformat_minor": 2
}
