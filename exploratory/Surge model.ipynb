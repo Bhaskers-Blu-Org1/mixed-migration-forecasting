{
 "cells": [
  {
   "cell_type": "markdown",
   "metadata": {},
   "source": [
    "# Displacement surge models\n",
    "\n",
    "Will there be a displacement crisis for country x this/next year? We look to answer this question by treating it as a classification problem. A crisis is defined if displacement surges beyond a certain threshold. Looking at data from 25 countries, we train a classifier to predict if there will be a surge or not.\n"
   ]
  },
  {
   "cell_type": "code",
   "execution_count": 1,
   "metadata": {},
   "outputs": [],
   "source": [
    "import os\n",
    "import json\n",
    "import pandas as pd\n",
    "import numpy as np\n",
    "from time import time\n",
    "from sklearn.model_selection import train_test_split\n",
    "\n",
    "import seaborn as sns\n",
    "import matplotlib.image as mpl_image\n",
    "import matplotlib.pyplot as plt\n",
    "\n",
    "%matplotlib inline \n",
    "sns.set(style=\"white\")"
   ]
  },
  {
   "cell_type": "code",
   "execution_count": 2,
   "metadata": {},
   "outputs": [
    {
     "name": "stdout",
     "output_type": "stream",
     "text": [
      "Sources            : 19\n",
      "Shape              : 924558 (rows) 6 (columns)\n",
      "Geographies        : 568\n",
      "Indicators         : 142\n",
      "Temporal coverage  : 1789 -> 2019\n",
      "Null values        : 1421\n",
      "\n",
      "Loaded data in 1.36 sec.\n",
      "Long form of size  : 35901 (rows) 144 (columns)\n",
      "Filtered data of size  : 1000 (rows) 144 (columns)\n"
     ]
    }
   ],
   "source": [
    "start_time = time()\n",
    "with open(\"../configuration.json\", 'rt') as infile:\n",
    "    config = json.load(infile)\n",
    "\n",
    "\n",
    "sources = [os.path.join(\"..\", config['paths']['output'], \n",
    "                        d['name'], \n",
    "                        'data.csv') for d in config['sources'] if d['name']]\n",
    "\n",
    "\n",
    "# Generate a data frame with all indicators\n",
    "df = pd.concat((pd.read_csv(f) for f in sources), sort=False, ignore_index=True)\n",
    "\n",
    "# Summary stats\n",
    "print(\"Sources            : {}\".format(len(sources)))\n",
    "print(\"Shape              : {} (rows) {} (columns)\".format(*df.shape))\n",
    "print(\"Geographies        : {}\".format(len(df['Country Name'].unique())))\n",
    "print(\"Indicators         : {}\".format(len(df['Indicator Code'].unique())))\n",
    "print(\"Temporal coverage  : {} -> {}\".format(df.year.min(), df.year.max()))\n",
    "print(\"Null values        : {}\".format(sum(df['value'].isnull())))\n",
    "\n",
    "print(\"\\nLoaded data in {:3.2f} sec.\".format(time() - start_time))\n",
    "\n",
    "\n",
    "# Now arrange data in wide form\n",
    "data = pd.pivot_table(df, index=['Country Code', 'year'],\n",
    "                      columns='Indicator Code', values='value')\n",
    "\n",
    "# Consider country/year as features (and not an index)\n",
    "data.reset_index(inplace=True)\n",
    "\n",
    "print(\"Long form of size  : {} (rows) {} (columns)\".format(*data.shape))\n",
    "\n",
    "\n",
    "subglobal = ['SYR','COL','AFG','COG','SSD','SOM','VEN','ETH','SDN','NGA',\n",
    "             'IRQ','YEM','UKR','MMR','CAF','CMR','ERI','BDI','GEO','MLI',\n",
    "             'TCD','LBY','NER','BFA','COD']\n",
    "# data filtering\n",
    "\n",
    "# Spatial filter\n",
    "c1 = data['Country Code'].isin(subglobal)\n",
    "\n",
    "# Temporal filter\n",
    "c2 = data['year'] >= 1980\n",
    "\n",
    "\n",
    "data = data[c1 & c2]\n",
    "print(\"Filtered data of size  : {} (rows) {} (columns)\".format(*data.shape))\n",
    "\n",
    "\n",
    "# Get a look up table of indicators to use for the explainer\n",
    "grp = (df\n",
    "        .groupby(['Indicator Code', 'Indicator Name'])['year']\n",
    "        .count()\n",
    "        .reset_index()\n",
    "        .drop(columns='year')\n",
    "        .set_index('Indicator Code').to_dict())\n",
    "\n",
    "INDICATORS = grp['Indicator Name']"
   ]
  },
  {
   "cell_type": "code",
   "execution_count": 3,
   "metadata": {},
   "outputs": [
    {
     "data": {
      "text/html": [
       "<div>\n",
       "<style scoped>\n",
       "    .dataframe tbody tr th:only-of-type {\n",
       "        vertical-align: middle;\n",
       "    }\n",
       "\n",
       "    .dataframe tbody tr th {\n",
       "        vertical-align: top;\n",
       "    }\n",
       "\n",
       "    .dataframe thead th {\n",
       "        text-align: right;\n",
       "    }\n",
       "</style>\n",
       "<table border=\"1\" class=\"dataframe\">\n",
       "  <thead>\n",
       "    <tr style=\"text-align: right;\">\n",
       "      <th>Indicator Code</th>\n",
       "      <th>Country Code</th>\n",
       "      <th>year</th>\n",
       "      <th>ACLED.COUNT</th>\n",
       "      <th>ACLED.FATALITIES</th>\n",
       "      <th>ADESA</th>\n",
       "      <th>AG.PRD.FOOD.XD</th>\n",
       "      <th>AG.PRD.LVSK.XD</th>\n",
       "      <th>DRC.TOT.DISP</th>\n",
       "      <th>EG.ELC.ACCS.ZS</th>\n",
       "      <th>EMDAT.CPX.OCCURRENCE</th>\n",
       "      <th>...</th>\n",
       "      <th>WHO.EXT.HTLTH.EXP</th>\n",
       "      <th>WHO.INF.DTH</th>\n",
       "      <th>WHO.MAT.DEATHS</th>\n",
       "      <th>WHO.MAT.MORT.RATIO</th>\n",
       "      <th>WHO.NEO.DTH</th>\n",
       "      <th>WHO.NUM.TB.CAS</th>\n",
       "      <th>WHO.OOP.HLTH.EXP</th>\n",
       "      <th>WHO.TB.CAS</th>\n",
       "      <th>WHO.TB.TMT.COV</th>\n",
       "      <th>WHO.UND.FIV.DTH</th>\n",
       "    </tr>\n",
       "  </thead>\n",
       "  <tbody>\n",
       "    <tr>\n",
       "      <th>266</th>\n",
       "      <td>AFG</td>\n",
       "      <td>1980</td>\n",
       "      <td>NaN</td>\n",
       "      <td>NaN</td>\n",
       "      <td>NaN</td>\n",
       "      <td>78.64</td>\n",
       "      <td>70.84</td>\n",
       "      <td>1734921.0</td>\n",
       "      <td>NaN</td>\n",
       "      <td>0.0</td>\n",
       "      <td>...</td>\n",
       "      <td>NaN</td>\n",
       "      <td>NaN</td>\n",
       "      <td>NaN</td>\n",
       "      <td>NaN</td>\n",
       "      <td>NaN</td>\n",
       "      <td>NaN</td>\n",
       "      <td>NaN</td>\n",
       "      <td>NaN</td>\n",
       "      <td>NaN</td>\n",
       "      <td>NaN</td>\n",
       "    </tr>\n",
       "    <tr>\n",
       "      <th>267</th>\n",
       "      <td>AFG</td>\n",
       "      <td>1981</td>\n",
       "      <td>NaN</td>\n",
       "      <td>NaN</td>\n",
       "      <td>NaN</td>\n",
       "      <td>78.45</td>\n",
       "      <td>72.86</td>\n",
       "      <td>3879984.0</td>\n",
       "      <td>NaN</td>\n",
       "      <td>0.0</td>\n",
       "      <td>...</td>\n",
       "      <td>NaN</td>\n",
       "      <td>NaN</td>\n",
       "      <td>NaN</td>\n",
       "      <td>NaN</td>\n",
       "      <td>NaN</td>\n",
       "      <td>NaN</td>\n",
       "      <td>NaN</td>\n",
       "      <td>NaN</td>\n",
       "      <td>NaN</td>\n",
       "      <td>NaN</td>\n",
       "    </tr>\n",
       "    <tr>\n",
       "      <th>268</th>\n",
       "      <td>AFG</td>\n",
       "      <td>1982</td>\n",
       "      <td>NaN</td>\n",
       "      <td>NaN</td>\n",
       "      <td>NaN</td>\n",
       "      <td>77.60</td>\n",
       "      <td>73.31</td>\n",
       "      <td>4488214.0</td>\n",
       "      <td>NaN</td>\n",
       "      <td>0.0</td>\n",
       "      <td>...</td>\n",
       "      <td>NaN</td>\n",
       "      <td>NaN</td>\n",
       "      <td>NaN</td>\n",
       "      <td>NaN</td>\n",
       "      <td>NaN</td>\n",
       "      <td>NaN</td>\n",
       "      <td>NaN</td>\n",
       "      <td>NaN</td>\n",
       "      <td>NaN</td>\n",
       "      <td>NaN</td>\n",
       "    </tr>\n",
       "    <tr>\n",
       "      <th>269</th>\n",
       "      <td>AFG</td>\n",
       "      <td>1983</td>\n",
       "      <td>NaN</td>\n",
       "      <td>NaN</td>\n",
       "      <td>NaN</td>\n",
       "      <td>75.83</td>\n",
       "      <td>71.89</td>\n",
       "      <td>4712735.0</td>\n",
       "      <td>NaN</td>\n",
       "      <td>0.0</td>\n",
       "      <td>...</td>\n",
       "      <td>NaN</td>\n",
       "      <td>NaN</td>\n",
       "      <td>NaN</td>\n",
       "      <td>NaN</td>\n",
       "      <td>NaN</td>\n",
       "      <td>NaN</td>\n",
       "      <td>NaN</td>\n",
       "      <td>NaN</td>\n",
       "      <td>NaN</td>\n",
       "      <td>NaN</td>\n",
       "    </tr>\n",
       "    <tr>\n",
       "      <th>270</th>\n",
       "      <td>AFG</td>\n",
       "      <td>1984</td>\n",
       "      <td>NaN</td>\n",
       "      <td>NaN</td>\n",
       "      <td>NaN</td>\n",
       "      <td>72.97</td>\n",
       "      <td>68.09</td>\n",
       "      <td>4417651.0</td>\n",
       "      <td>NaN</td>\n",
       "      <td>0.0</td>\n",
       "      <td>...</td>\n",
       "      <td>NaN</td>\n",
       "      <td>NaN</td>\n",
       "      <td>NaN</td>\n",
       "      <td>NaN</td>\n",
       "      <td>NaN</td>\n",
       "      <td>NaN</td>\n",
       "      <td>NaN</td>\n",
       "      <td>NaN</td>\n",
       "      <td>NaN</td>\n",
       "      <td>NaN</td>\n",
       "    </tr>\n",
       "  </tbody>\n",
       "</table>\n",
       "<p>5 rows × 144 columns</p>\n",
       "</div>"
      ],
      "text/plain": [
       "Indicator Code Country Code  year  ACLED.COUNT  ACLED.FATALITIES  ADESA  \\\n",
       "266                     AFG  1980          NaN               NaN    NaN   \n",
       "267                     AFG  1981          NaN               NaN    NaN   \n",
       "268                     AFG  1982          NaN               NaN    NaN   \n",
       "269                     AFG  1983          NaN               NaN    NaN   \n",
       "270                     AFG  1984          NaN               NaN    NaN   \n",
       "\n",
       "Indicator Code  AG.PRD.FOOD.XD  AG.PRD.LVSK.XD  DRC.TOT.DISP  EG.ELC.ACCS.ZS  \\\n",
       "266                      78.64           70.84     1734921.0             NaN   \n",
       "267                      78.45           72.86     3879984.0             NaN   \n",
       "268                      77.60           73.31     4488214.0             NaN   \n",
       "269                      75.83           71.89     4712735.0             NaN   \n",
       "270                      72.97           68.09     4417651.0             NaN   \n",
       "\n",
       "Indicator Code  EMDAT.CPX.OCCURRENCE  ...  WHO.EXT.HTLTH.EXP  WHO.INF.DTH  \\\n",
       "266                              0.0  ...                NaN          NaN   \n",
       "267                              0.0  ...                NaN          NaN   \n",
       "268                              0.0  ...                NaN          NaN   \n",
       "269                              0.0  ...                NaN          NaN   \n",
       "270                              0.0  ...                NaN          NaN   \n",
       "\n",
       "Indicator Code  WHO.MAT.DEATHS  WHO.MAT.MORT.RATIO  WHO.NEO.DTH  \\\n",
       "266                        NaN                 NaN          NaN   \n",
       "267                        NaN                 NaN          NaN   \n",
       "268                        NaN                 NaN          NaN   \n",
       "269                        NaN                 NaN          NaN   \n",
       "270                        NaN                 NaN          NaN   \n",
       "\n",
       "Indicator Code  WHO.NUM.TB.CAS  WHO.OOP.HLTH.EXP  WHO.TB.CAS  WHO.TB.TMT.COV  \\\n",
       "266                        NaN               NaN         NaN             NaN   \n",
       "267                        NaN               NaN         NaN             NaN   \n",
       "268                        NaN               NaN         NaN             NaN   \n",
       "269                        NaN               NaN         NaN             NaN   \n",
       "270                        NaN               NaN         NaN             NaN   \n",
       "\n",
       "Indicator Code  WHO.UND.FIV.DTH  \n",
       "266                         NaN  \n",
       "267                         NaN  \n",
       "268                         NaN  \n",
       "269                         NaN  \n",
       "270                         NaN  \n",
       "\n",
       "[5 rows x 144 columns]"
      ]
     },
     "execution_count": 3,
     "metadata": {},
     "output_type": "execute_result"
    }
   ],
   "source": [
    "data.head()"
   ]
  },
  {
   "cell_type": "markdown",
   "metadata": {},
   "source": [
    "# Target variable\n",
    "\n",
    "What constitutes a surge.\n",
    "\n",
    "- Will there be a high number of displacement. \n",
    "\n"
   ]
  },
  {
   "cell_type": "code",
   "execution_count": 3,
   "metadata": {},
   "outputs": [
    {
     "name": "stdout",
     "output_type": "stream",
     "text": [
      "Country Code  year\n",
      "SYR           2013    5256824.0\n",
      "SDN           2009    4847339.0\n",
      "NGA           2013    3320316.0\n",
      "SYR           2012    3113448.0\n",
      "VEN           2018    2575366.0\n",
      "SYR           2014    2555257.0\n",
      "COD           2017    2388016.0\n",
      "YEM           2015    2195572.0\n",
      "AFG           1981    2145063.0\n",
      "COD           2009    1982705.0\n",
      "Name: TARGET, dtype: float64\n",
      "#Surge events based on new displacement exceeding 75,000: 153\n",
      "#Surge events based on per-capita displacement 500: 146\n",
      "Total #surge events: 153\n",
      "Myanmar 2017 categorized as a surge.\n"
     ]
    }
   ],
   "source": [
    "# Binary outcomes (displacement or no displacement) based on \n",
    "# if total *new* displacement for the year exceeds this threshold\n",
    "\n",
    "NEW_DISP_THRESHOLD = 75000\n",
    "PER_100K_THRESHOLD = 500\n",
    "\n",
    "def target_outcomes(x):\n",
    "    \n",
    "    x = x.sort_values(by='year')\n",
    "    x.set_index('year', inplace=True)\n",
    "    new_stock = x['DRC.TOT.DISP'].diff()\n",
    "    return new_stock\n",
    "    \n",
    "# Compute new displacements\n",
    "d = data.groupby(['Country Code']).apply(target_outcomes)\n",
    "tar = d.reset_index().melt(id_vars=['Country Code'], value_vars=d.columns)\n",
    "tar.rename(columns={'value': 'TARGET'}, inplace=True)\n",
    "data = data.merge(right=tar, on=['Country Code', 'year'])\n",
    "\n",
    "# Report on the top 10 countries\n",
    "tmp = data.set_index(['Country Code', 'year'])\n",
    "x = tmp.loc[~pd.isnull(tmp['TARGET']), 'TARGET']\n",
    "x = x.sort_values(ascending=False)\n",
    "print(x.head(10))\n",
    "\n",
    "c1 = data.TARGET > NEW_DISP_THRESHOLD\n",
    "print(\"#Surge events based on new displacement exceeding {:,}: {}\".format(NEW_DISP_THRESHOLD, sum(c1)))\n",
    "\n",
    "c2 =  (100000 * data.TARGET/data[\"SP.POP.TOTL\"]) > PER_100K_THRESHOLD\n",
    "print(\"#Surge events based on per-capita displacement {:,}: {}\".format(PER_100K_THRESHOLD, sum(c2)))\n",
    "\n",
    "data['TARGET'] = c1 # | c2\n",
    "print(\"Total #surge events: {}\".format(sum(data.TARGET)))\n",
    "\n",
    "# Does Myanmar meet the criteria?\n",
    "if data.set_index(['Country Code', 'year']).loc[('MMR', 2017), 'TARGET']:\n",
    "    print(\"Myanmar 2017 categorized as a surge.\")\n",
    "else:\n",
    "    print(\"Myanmar 2017 not considered a surge.\")"
   ]
  },
  {
   "cell_type": "markdown",
   "metadata": {},
   "source": [
    "# Features\n",
    "\n",
    "Two variants: We can consider *all* features from the dataset or just the ones used by the causal model. "
   ]
  },
  {
   "cell_type": "code",
   "execution_count": 4,
   "metadata": {},
   "outputs": [
    {
     "name": "stdout",
     "output_type": "stream",
     "text": [
      "# Features: 110\n"
     ]
    }
   ],
   "source": [
    "# Variant 1: All features\n",
    "idx = ['Country Code', 'year']\n",
    "mm = ['ETH.TO.{}'.format(i) for i in ['DNK', 'GBR', 'ITA', 'SAU', 'SWE', 'ZAF']]\n",
    "endo = ['UNHCR.OUT.AS', 'UNHCR.OUT.IDP', 'UNHCR.OUT.OOC', \n",
    "        'UNHCR.OUT.REF', 'UNHCR.OUT.RET', 'UNHCR.OUT.RETIDP', 'IDP', \"UNHCR.EDP\"]\n",
    "# missing entirely\n",
    "emdat = ['EMDAT.CPX.OCCURRENCE','EMDAT.CPX.TOTAL.DEATHS','EMDAT.CPX.TOTAL.AFFECTED','EMDAT.CPX.AFFECTED']\n",
    "\n",
    "# low coverage\n",
    "low_cov = ['UC.FAT.RAKH',\n",
    "'UC.EVT.RAKH',\n",
    "'WFP.PRC.WHT',\n",
    "'ER.GDP.FWTL.M3.KD',\n",
    "'WHO.MAT.MORT.RATIO',\n",
    "'WHO.MAT.DEATHS',\n",
    "'SE.ADT.LITR.ZS',\n",
    "'SI.POV.GINI',\n",
    "'ER.H2O.INTR.PC',\n",
    "'IQ.CPA.PROP.XQ',\n",
    "'EN.ATM.PM25.MC.M3']\n",
    "target = ['DRC.TOT.DISP', 'TARGET']\n",
    "allfeatures = list(set(data.columns.tolist()) - set(idx + mm + endo + target + emdat))\n",
    "\n",
    "mmr_data = [f for f in allfeatures if f.startswith('MMR.NSO')]\n",
    "\n",
    "features =  list(set(allfeatures) - set(mmr_data))\n",
    "print(\"# Features: {}\".format(len(features)))"
   ]
  },
  {
   "cell_type": "code",
   "execution_count": 31,
   "metadata": {},
   "outputs": [
    {
     "name": "stdout",
     "output_type": "stream",
     "text": [
      "# Features: 15\n"
     ]
    }
   ],
   "source": [
    "# Variant 2: a subset\n",
    "\n",
    "\"\"\"with open(\"../model/bayesnetwork/network.json\", 'rt') as infile:\n",
    "    net = json.load(infile)\n",
    "features = [i['code'] for i in net['indicators']]\n",
    "features.remove('DRC.TOT.DISP')\n",
    "print(\"# Features: {}\".format(len(features)))\n",
    "\"\"\""
   ]
  },
  {
   "cell_type": "markdown",
   "metadata": {},
   "source": [
    "# Some pre-processing\n",
    "\n",
    "The target variable is highly-imbalanced. So resample with replacement to balance the classes. But first remove the test set. "
   ]
  },
  {
   "cell_type": "code",
   "execution_count": 5,
   "metadata": {},
   "outputs": [
    {
     "data": {
      "text/plain": [
       "False    847\n",
       "True     153\n",
       "Name: TARGET, dtype: int64"
      ]
     },
     "execution_count": 5,
     "metadata": {},
     "output_type": "execute_result"
    }
   ],
   "source": [
    "data.TARGET.value_counts()"
   ]
  },
  {
   "cell_type": "code",
   "execution_count": 6,
   "metadata": {},
   "outputs": [
    {
     "name": "stdout",
     "output_type": "stream",
     "text": [
      "Training set: 800 obs 110 features\n",
      "Testing set : 200 obs 110 features\n"
     ]
    }
   ],
   "source": [
    "target = 'TARGET'\n",
    "X = data[features].dropna(how='all', axis=1)\n",
    "y = data[target]\n",
    "\n",
    "# Random splits\n",
    "X_train, X_test, y_train, y_test = train_test_split(X, y, test_size=0.2, random_state=41)\n",
    "\n",
    "print(\"Training set: {} obs {} features\".format(*X_train.shape))\n",
    "print(\"Testing set : {} obs {} features\".format(*X_test.shape))"
   ]
  },
  {
   "cell_type": "code",
   "execution_count": 7,
   "metadata": {},
   "outputs": [
    {
     "name": "stdout",
     "output_type": "stream",
     "text": [
      "Training set: 900 obs 110 features\n",
      "Testing set : 100 obs 110 features\n"
     ]
    }
   ],
   "source": [
    "# OR Time-base splits\n",
    "yr = 2015\n",
    "target = 'TARGET'\n",
    "test_idx = data.year > yr\n",
    "train_idx = ~test_idx\n",
    "X_train = data.loc[train_idx][features]\n",
    "X_test = data.loc[test_idx][features]\n",
    "y_train = data.loc[train_idx][target]\n",
    "y_test = data.loc[test_idx][target]\n",
    "print(\"Training set: {} obs {} features\".format(*X_train.shape))\n",
    "print(\"Testing set : {} obs {} features\".format(*X_test.shape))"
   ]
  },
  {
   "cell_type": "code",
   "execution_count": 8,
   "metadata": {},
   "outputs": [
    {
     "name": "stderr",
     "output_type": "stream",
     "text": [
      "Using TensorFlow backend.\n",
      "/Users/rahul/anaconda3/envs/mm4sight/lib/python3.7/site-packages/tensorflow/python/framework/dtypes.py:516: FutureWarning: Passing (type, 1) or '1type' as a synonym of type is deprecated; in a future version of numpy, it will be understood as (type, (1,)) / '(1,)type'.\n",
      "  _np_qint8 = np.dtype([(\"qint8\", np.int8, 1)])\n",
      "/Users/rahul/anaconda3/envs/mm4sight/lib/python3.7/site-packages/tensorflow/python/framework/dtypes.py:517: FutureWarning: Passing (type, 1) or '1type' as a synonym of type is deprecated; in a future version of numpy, it will be understood as (type, (1,)) / '(1,)type'.\n",
      "  _np_quint8 = np.dtype([(\"quint8\", np.uint8, 1)])\n",
      "/Users/rahul/anaconda3/envs/mm4sight/lib/python3.7/site-packages/tensorflow/python/framework/dtypes.py:518: FutureWarning: Passing (type, 1) or '1type' as a synonym of type is deprecated; in a future version of numpy, it will be understood as (type, (1,)) / '(1,)type'.\n",
      "  _np_qint16 = np.dtype([(\"qint16\", np.int16, 1)])\n",
      "/Users/rahul/anaconda3/envs/mm4sight/lib/python3.7/site-packages/tensorflow/python/framework/dtypes.py:519: FutureWarning: Passing (type, 1) or '1type' as a synonym of type is deprecated; in a future version of numpy, it will be understood as (type, (1,)) / '(1,)type'.\n",
      "  _np_quint16 = np.dtype([(\"quint16\", np.uint16, 1)])\n",
      "/Users/rahul/anaconda3/envs/mm4sight/lib/python3.7/site-packages/tensorflow/python/framework/dtypes.py:520: FutureWarning: Passing (type, 1) or '1type' as a synonym of type is deprecated; in a future version of numpy, it will be understood as (type, (1,)) / '(1,)type'.\n",
      "  _np_qint32 = np.dtype([(\"qint32\", np.int32, 1)])\n",
      "/Users/rahul/anaconda3/envs/mm4sight/lib/python3.7/site-packages/tensorflow/python/framework/dtypes.py:525: FutureWarning: Passing (type, 1) or '1type' as a synonym of type is deprecated; in a future version of numpy, it will be understood as (type, (1,)) / '(1,)type'.\n",
      "  np_resource = np.dtype([(\"resource\", np.ubyte, 1)])\n",
      "/Users/rahul/anaconda3/envs/mm4sight/lib/python3.7/site-packages/tensorboard/compat/tensorflow_stub/dtypes.py:541: FutureWarning: Passing (type, 1) or '1type' as a synonym of type is deprecated; in a future version of numpy, it will be understood as (type, (1,)) / '(1,)type'.\n",
      "  _np_qint8 = np.dtype([(\"qint8\", np.int8, 1)])\n",
      "/Users/rahul/anaconda3/envs/mm4sight/lib/python3.7/site-packages/tensorboard/compat/tensorflow_stub/dtypes.py:542: FutureWarning: Passing (type, 1) or '1type' as a synonym of type is deprecated; in a future version of numpy, it will be understood as (type, (1,)) / '(1,)type'.\n",
      "  _np_quint8 = np.dtype([(\"quint8\", np.uint8, 1)])\n",
      "/Users/rahul/anaconda3/envs/mm4sight/lib/python3.7/site-packages/tensorboard/compat/tensorflow_stub/dtypes.py:543: FutureWarning: Passing (type, 1) or '1type' as a synonym of type is deprecated; in a future version of numpy, it will be understood as (type, (1,)) / '(1,)type'.\n",
      "  _np_qint16 = np.dtype([(\"qint16\", np.int16, 1)])\n",
      "/Users/rahul/anaconda3/envs/mm4sight/lib/python3.7/site-packages/tensorboard/compat/tensorflow_stub/dtypes.py:544: FutureWarning: Passing (type, 1) or '1type' as a synonym of type is deprecated; in a future version of numpy, it will be understood as (type, (1,)) / '(1,)type'.\n",
      "  _np_quint16 = np.dtype([(\"quint16\", np.uint16, 1)])\n",
      "/Users/rahul/anaconda3/envs/mm4sight/lib/python3.7/site-packages/tensorboard/compat/tensorflow_stub/dtypes.py:545: FutureWarning: Passing (type, 1) or '1type' as a synonym of type is deprecated; in a future version of numpy, it will be understood as (type, (1,)) / '(1,)type'.\n",
      "  _np_qint32 = np.dtype([(\"qint32\", np.int32, 1)])\n",
      "/Users/rahul/anaconda3/envs/mm4sight/lib/python3.7/site-packages/tensorboard/compat/tensorflow_stub/dtypes.py:550: FutureWarning: Passing (type, 1) or '1type' as a synonym of type is deprecated; in a future version of numpy, it will be understood as (type, (1,)) / '(1,)type'.\n",
      "  np_resource = np.dtype([(\"resource\", np.ubyte, 1)])\n"
     ]
    },
    {
     "data": {
      "text/plain": [
       "True     771\n",
       "False    771\n",
       "Name: TARGET, dtype: int64"
      ]
     },
     "execution_count": 8,
     "metadata": {},
     "output_type": "execute_result"
    }
   ],
   "source": [
    "from imblearn.over_sampling import RandomOverSampler \n",
    "import warnings\n",
    "warnings.simplefilter(action='ignore', category=FutureWarning)\n",
    "\n",
    "ros = RandomOverSampler(random_state=42)\n",
    "X_train_res, y_train_res = ros.fit_resample(X_train, y_train)\n",
    "y_train_res.value_counts()"
   ]
  },
  {
   "cell_type": "markdown",
   "metadata": {},
   "source": [
    "# Models\n",
    "\n",
    "Let's start with a baseline model - logistic regression."
   ]
  },
  {
   "cell_type": "code",
   "execution_count": 9,
   "metadata": {},
   "outputs": [
    {
     "name": "stdout",
     "output_type": "stream",
     "text": [
      "Accuracy: 74.00%\n"
     ]
    },
    {
     "data": {
      "image/png": "[encoded data removed]",
      "text/plain": [
       "<Figure size 432x288 with 2 Axes>"
      ]
     },
     "metadata": {
      "needs_background": "light"
     },
     "output_type": "display_data"
    }
   ],
   "source": [
    "from sklearn.pipeline import Pipeline\n",
    "from sklearn.impute import SimpleImputer\n",
    "from sklearn.preprocessing import StandardScaler\n",
    "from sklearn.linear_model import LogisticRegression\n",
    "from sklearn.metrics import accuracy_score, precision_score, recall_score, f1_score, plot_confusion_matrix\n",
    "from sklearn.metrics import ConfusionMatrixDisplay\n",
    "\n",
    "clf = Pipeline(steps=[('imputer', SimpleImputer()), \n",
    "                      ('preprocessor', StandardScaler()),\n",
    "                      ('classifier', LogisticRegression(max_iter=500))])\n",
    "\n",
    "clf.fit(X_train, y_train)\n",
    "y_pred = clf.predict(X_test)\n",
    "\n",
    "print(\"Accuracy: {:2.2f}%\".format(100.0*accuracy_score(y_test, y_pred)))\n",
    "plt.rcParams.update({'font.size': 16})\n",
    "plot_confusion_matrix(clf, X_test, y_test, display_labels=['Normal', 'Surge'], values_format='.0f');"
   ]
  },
  {
   "cell_type": "code",
   "execution_count": 10,
   "metadata": {},
   "outputs": [
    {
     "name": "stdout",
     "output_type": "stream",
     "text": [
      "Accuracy: 76.00%\n"
     ]
    },
    {
     "data": {
      "image/png": "[encoded data removed]",
      "text/plain": [
       "<Figure size 432x288 with 2 Axes>"
      ]
     },
     "metadata": {
      "needs_background": "light"
     },
     "output_type": "display_data"
    }
   ],
   "source": [
    "from sklearn.ensemble import GradientBoostingClassifier\n",
    "clf = Pipeline(steps=[('imputer', SimpleImputer()), \n",
    "                      ('preprocessor', StandardScaler()),\n",
    "                      ('classifier', GradientBoostingClassifier(random_state=42))])\n",
    "\n",
    "clf.fit(X_train, y_train)\n",
    "y_pred = clf.predict(X_test)\n",
    "\n",
    "print(\"Accuracy: {:2.2f}%\".format(100.0*accuracy_score(y_test, y_pred)))\n",
    "plot_confusion_matrix(clf, X_test, y_test, display_labels=['Normal', 'Surge'], values_format='.0f');"
   ]
  },
  {
   "cell_type": "code",
   "execution_count": 11,
   "metadata": {},
   "outputs": [
    {
     "name": "stdout",
     "output_type": "stream",
     "text": [
      "              precision    recall  f1-score   support\n",
      "\n",
      "       False       0.82      0.87      0.85        76\n",
      "        True       0.50      0.42      0.45        24\n",
      "\n",
      "    accuracy                           0.76       100\n",
      "   macro avg       0.66      0.64      0.65       100\n",
      "weighted avg       0.75      0.76      0.75       100\n",
      "\n"
     ]
    }
   ],
   "source": [
    "from sklearn.metrics import classification_report\n",
    "print(classification_report(y_test, y_pred));"
   ]
  },
  {
   "cell_type": "markdown",
   "metadata": {},
   "source": [
    "Perhaps interesting to see:\n",
    "- can we explain why we can capture a majority of these events?\n",
    "- this is like a 'nowcast'. How would we do for future year surges?\n",
    "- Would the Myanmar 2017 case be nowcasted/forecasted?"
   ]
  },
  {
   "cell_type": "markdown",
   "metadata": {},
   "source": [
    "# Explainer models"
   ]
  },
  {
   "cell_type": "code",
   "execution_count": 12,
   "metadata": {},
   "outputs": [],
   "source": [
    "from aix360.algorithms.rbm import FeatureBinarizer\n",
    "from aix360.algorithms.rbm import BooleanRuleCG, BRCGExplainer\n",
    "\n",
    "# AIX360 methods are not valid estimators/transformers\n",
    "# So can't be used in a pipeline. First impute\n",
    "imp = SimpleImputer()\n",
    "X_train_fb = pd.DataFrame(imp.fit_transform(X_train))\n",
    "X_train_fb.columns = X_train.columns\n",
    "\n",
    "X_test_fb = pd.DataFrame(imp.transform(X_test))\n",
    "X_test_fb.columns = X_test.columns\n",
    "\n",
    "fb = FeatureBinarizer(negations=True)\n",
    "X_train_fb = fb.fit_transform(X_train_fb)\n",
    "X_test_fb = fb.transform(X_test_fb)"
   ]
  },
  {
   "cell_type": "code",
   "execution_count": 13,
   "metadata": {},
   "outputs": [],
   "source": [
    "from sklearn.metrics import confusion_matrix, ConfusionMatrixDisplay\n",
    "\n",
    "def plot_cm(true, pred, display_labels):\n",
    "    \"\"\" plot confusion for non-estimators \"\"\"\n",
    "    \n",
    "    cm  = confusion_matrix(true, pred)\n",
    "    disp = ConfusionMatrixDisplay(confusion_matrix=cm,\n",
    "                                  display_labels=display_labels)\n",
    "    \n",
    "    return disp.plot(include_values=True,\n",
    "                     cmap='viridis', ax=None, xticks_rotation=None,\n",
    "                     values_format='.0f')"
   ]
  },
  {
   "cell_type": "code",
   "execution_count": null,
   "metadata": {},
   "outputs": [],
   "source": [
    "# Note that the explanations are sensitive to the regularization parameters\n",
    "boolean_model = BooleanRuleCG(silent=False, lambda0=0.001, lambda1=0.001, CNF=True)\n",
    "explainer = BRCGExplainer(boolean_model)\n",
    "explainer.fit(X_train_fb, y_train)\n",
    "\n",
    "y_pred = explainer.predict(X_test_fb)\n",
    "print(\"Accuracy: {:2.2f}%\".format(100.0*accuracy_score(y_test, y_pred)))\n",
    "plot_cm(y_test, y_pred, [False, True]);"
   ]
  },
  {
   "cell_type": "code",
   "execution_count": null,
   "metadata": {},
   "outputs": [],
   "source": [
    "print(classification_report(y_test, y_pred));"
   ]
  },
  {
   "cell_type": "code",
   "execution_count": null,
   "metadata": {},
   "outputs": [],
   "source": [
    "import re\n",
    "pattern = re.compile(r'\\b(' + '|'.join(INDICATORS.keys()) + r')\\b')\n",
    "e = explainer.explain()\n",
    "\n",
    "# the labels are flipped between Conjunctive/Disjunctive normal forms\n",
    "isCNF = 'No surge if ANY of the following rules are satisfied, otherwise predict surge:'\n",
    "notCNF = 'Predict surge if ANY of the following rules are satisfied, otherwise no:'\n",
    "print(isCNF if e['isCNF'] else notCNF)\n",
    "print()\n",
    "for rule in e['rules']:\n",
    "    result = pattern.sub(lambda x: INDICATORS[x.group()], rule)\n",
    "    print(f'  - {result}')"
   ]
  },
  {
   "cell_type": "markdown",
   "metadata": {},
   "source": [
    "## Misclassifications\n",
    "\n",
    "Which instances were incorrectly classified?"
   ]
  },
  {
   "cell_type": "code",
   "execution_count": 14,
   "metadata": {},
   "outputs": [
    {
     "name": "stdout",
     "output_type": "stream",
     "text": [
      "Misclassifications: \n",
      "{'AFG': ['2017->Normal'],\n",
      " 'CAF': ['2017->Surge'],\n",
      " 'CMR': ['2016->Normal', '2017->Surge', '2018->Surge'],\n",
      " 'COD': ['2016->Surge', '2017->Surge'],\n",
      " 'COG': ['2017->Surge'],\n",
      " 'ETH': ['2017->Surge', '2018->Surge'],\n",
      " 'GEO': ['2017->Surge'],\n",
      " 'LBY': ['2016->Normal', '2017->Normal'],\n",
      " 'MLI': ['2018->Surge'],\n",
      " 'NGA': ['2017->Normal', '2018->Surge'],\n",
      " 'SOM': ['2017->Normal', '2018->Surge'],\n",
      " 'SSD': ['2018->Normal'],\n",
      " 'SYR': ['2018->Normal'],\n",
      " 'VEN': ['2017->Surge', '2018->Surge'],\n",
      " 'YEM': ['2016->Normal', '2017->Normal']}\n",
      "\n",
      "Correctly classified: \n",
      "{'AFG': ['2016->Surge', '2018->Surge', '2019->Normal'],\n",
      " 'BDI': ['2016->Normal', '2017->Normal', '2018->Normal', '2019->Normal'],\n",
      " 'BFA': ['2016->Normal', '2017->Normal', '2018->Normal', '2019->Normal'],\n",
      " 'CAF': ['2016->Normal', '2018->Normal', '2019->Normal'],\n",
      " 'CMR': ['2019->Normal'],\n",
      " 'COD': ['2018->Normal', '2019->Normal'],\n",
      " 'COG': ['2016->Normal', '2018->Normal', '2019->Normal'],\n",
      " 'COL': ['2016->Surge', '2017->Normal', '2018->Normal', '2019->Normal'],\n",
      " 'ERI': ['2016->Normal', '2017->Normal', '2018->Normal', '2019->Normal'],\n",
      " 'ETH': ['2016->Normal', '2019->Normal'],\n",
      " 'GEO': ['2016->Normal', '2018->Normal', '2019->Normal'],\n",
      " 'IRQ': ['2016->Normal', '2017->Normal', '2018->Normal', '2019->Normal'],\n",
      " 'LBY': ['2018->Normal', '2019->Normal'],\n",
      " 'MLI': ['2016->Normal', '2017->Normal', '2019->Normal'],\n",
      " 'MMR': ['2016->Normal', '2017->Surge', '2018->Normal', '2019->Normal'],\n",
      " 'NER': ['2016->Normal', '2017->Normal', '2018->Normal', '2019->Normal'],\n",
      " 'NGA': ['2016->Normal', '2019->Normal'],\n",
      " 'SDN': ['2016->Surge', '2017->Normal', '2018->Normal', '2019->Normal'],\n",
      " 'SOM': ['2016->Normal', '2019->Normal'],\n",
      " 'SSD': ['2016->Surge', '2017->Surge', '2019->Normal'],\n",
      " 'SYR': ['2016->Surge', '2017->Surge', '2019->Normal'],\n",
      " 'TCD': ['2016->Normal', '2017->Normal', '2018->Normal', '2019->Normal'],\n",
      " 'UKR': ['2016->Normal', '2017->Normal', '2018->Normal', '2019->Normal'],\n",
      " 'VEN': ['2016->Normal', '2019->Normal'],\n",
      " 'YEM': ['2018->Surge', '2019->Normal']}\n"
     ]
    }
   ],
   "source": [
    "from pprint import pprint\n",
    "\n",
    "print(\"Misclassifications: \")\n",
    "res = {}\n",
    "for p, t, idx in zip(y_pred, y_test, y_test.index):\n",
    "    if p != t:\n",
    "        ccode = data.loc[idx]['Country Code']\n",
    "        yr = data.loc[idx]['year']\n",
    "        tst = 'Surge' if t else 'Normal'\n",
    "        try:\n",
    "            res[ccode].append(\"{}->{}\".format(yr, tst))\n",
    "        except KeyError:\n",
    "            res[ccode] = [\"{}->{}\".format(yr, tst)]\n",
    "            \n",
    "pprint(res)\n",
    "\n",
    "        \n",
    "print(\"\\nCorrectly classified: \")\n",
    "res = {}\n",
    "for p, t, idx in zip(y_pred, y_test, y_test.index):\n",
    "    if p == t:\n",
    "        ccode = data.loc[idx]['Country Code']\n",
    "        yr = data.loc[idx]['year']\n",
    "        tst = 'Surge' if t else 'Normal'\n",
    "        try:\n",
    "            res[ccode].append(\"{}->{}\".format(yr, tst))\n",
    "        except KeyError:\n",
    "            res[ccode] = [\"{}->{}\".format(yr, tst)]\n",
    "pprint(res)"
   ]
  },
  {
   "cell_type": "markdown",
   "metadata": {},
   "source": [
    "# Next year forecast\n",
    "\n",
    "The above is for `current` year. How do we do for classifications for year `t + 1`?\n"
   ]
  },
  {
   "cell_type": "code",
   "execution_count": 15,
   "metadata": {},
   "outputs": [],
   "source": [
    "def lag_variables(data, var, lag):\n",
    "\n",
    "    idx_cols = ['year', 'Country Code']\n",
    "    fv = var + idx_cols\n",
    "    \n",
    "    tmp = data[fv].copy(deep=True)\n",
    "    \n",
    "    col_name = [v + \".T\" + \"{0:+}\".format(lag) for v in var]\n",
    "    \n",
    "    tmp.rename(columns={k: v for (k, v) in zip(var, col_name)},\n",
    "               inplace=True)\n",
    "    tmp.year -= lag\n",
    "    data = pd.merge(data, tmp, on=idx_cols, how='left')\n",
    "    \n",
    "    return data, col_name\n",
    "\n",
    "data2, vname = lag_variables(data, ['TARGET'], 1)\n",
    "data2['TARGET'] = data2[vname]\n",
    "\n",
    "# Drop unknown labels\n",
    "#data2 = data2.dropna(subset=['TARGET'])"
   ]
  },
  {
   "cell_type": "code",
   "execution_count": 16,
   "metadata": {},
   "outputs": [
    {
     "name": "stdout",
     "output_type": "stream",
     "text": [
      "Accuracy: 72.80%\n"
     ]
    },
    {
     "data": {
      "image/png": "[encoded data removed]",
      "text/plain": [
       "<Figure size 432x288 with 2 Axes>"
      ]
     },
     "metadata": {
      "needs_background": "light"
     },
     "output_type": "display_data"
    }
   ],
   "source": [
    "target = 'TARGET'\n",
    "X = data2[features].dropna(how='all', axis=1)\n",
    "y = data2[target]\n",
    "\n",
    "# Drop missing labels\n",
    "idx = ~y.isnull()\n",
    "X = X.loc[idx]\n",
    "y = y.loc[idx]\n",
    "#y.loc[y.isnull()] = False\n",
    "\n",
    "# Random splits\n",
    "# X_train, X_test, y_train, y_test = train_test_split(X, y, test_size=0.2, random_state=41)\n",
    "\n",
    "# OR Time-base splits\n",
    "yr = 2014\n",
    "test_idx = data.year > yr\n",
    "train_idx = ~test_idx\n",
    "X_train = data.loc[train_idx][features]\n",
    "X_test = data.loc[test_idx][features]\n",
    "y_train = data.loc[train_idx][target]\n",
    "y_test = data.loc[test_idx][target]\n",
    "\n",
    "ros = RandomOverSampler(random_state=42)\n",
    "X_train_res, y_train_res = ros.fit_resample(X_train, y_train)\n",
    "y_train_res.value_counts()\n",
    "\n",
    "\n",
    "clf = Pipeline(steps=[('imputer', SimpleImputer()), \n",
    "                      ('preprocessor', StandardScaler()),\n",
    "                      ('classifier', GradientBoostingClassifier(random_state=42))])\n",
    "\n",
    "clf.fit(X_train, y_train)\n",
    "y_pred = clf.predict(X_test)\n",
    "\n",
    "print(\"Accuracy: {:2.2f}%\".format(100.0*accuracy_score(y_test, y_pred)))\n",
    "plot_confusion_matrix(clf, X_test, y_test, display_labels=['Normal', 'Surge'], values_format='.0f');"
   ]
  },
  {
   "cell_type": "code",
   "execution_count": 17,
   "metadata": {},
   "outputs": [
    {
     "name": "stdout",
     "output_type": "stream",
     "text": [
      "Misclassifications: \n",
      "{'AFG': ['2017->Normal', '2018->Surge'],\n",
      " 'BDI': ['2015->Surge'],\n",
      " 'CAF': ['2015->Normal', '2016->Normal'],\n",
      " 'CMR': ['2015->Surge', '2017->Surge', '2018->Surge'],\n",
      " 'COD': ['2016->Surge', '2017->Surge'],\n",
      " 'COG': ['2017->Surge'],\n",
      " 'COL': ['2017->Normal'],\n",
      " 'ERI': ['2016->Normal'],\n",
      " 'ETH': ['2016->Normal', '2017->Surge', '2018->Surge'],\n",
      " 'GEO': ['2017->Surge'],\n",
      " 'IRQ': ['2015->Normal', '2016->Normal', '2017->Normal'],\n",
      " 'LBY': ['2016->Normal', '2017->Normal'],\n",
      " 'MLI': ['2018->Surge'],\n",
      " 'NER': ['2015->Surge'],\n",
      " 'NGA': ['2015->Surge', '2018->Surge'],\n",
      " 'SOM': ['2017->Normal', '2018->Surge'],\n",
      " 'SYR': ['2018->Normal'],\n",
      " 'UKR': ['2015->Surge'],\n",
      " 'VEN': ['2017->Surge', '2018->Surge'],\n",
      " 'YEM': ['2016->Normal', '2017->Normal']}\n",
      "\n",
      "Correctly classified: \n",
      "{'AFG': ['2015->Surge', '2016->Surge', '2019->Normal'],\n",
      " 'BDI': ['2016->Normal', '2017->Normal', '2018->Normal', '2019->Normal'],\n",
      " 'BFA': ['2015->Normal',\n",
      "         '2016->Normal',\n",
      "         '2017->Normal',\n",
      "         '2018->Normal',\n",
      "         '2019->Normal'],\n",
      " 'CAF': ['2017->Surge', '2018->Normal', '2019->Normal'],\n",
      " 'CMR': ['2016->Normal', '2019->Normal'],\n",
      " 'COD': ['2015->Normal', '2018->Normal', '2019->Normal'],\n",
      " 'COG': ['2015->Normal', '2016->Normal', '2018->Normal', '2019->Normal'],\n",
      " 'COL': ['2015->Surge', '2016->Surge', '2018->Normal', '2019->Normal'],\n",
      " 'ERI': ['2015->Normal', '2017->Normal', '2018->Normal', '2019->Normal'],\n",
      " 'ETH': ['2015->Normal', '2019->Normal'],\n",
      " 'GEO': ['2015->Normal', '2016->Normal', '2018->Normal', '2019->Normal'],\n",
      " 'IRQ': ['2018->Normal', '2019->Normal'],\n",
      " 'LBY': ['2015->Surge', '2018->Normal', '2019->Normal'],\n",
      " 'MLI': ['2015->Normal', '2016->Normal', '2017->Normal', '2019->Normal'],\n",
      " 'MMR': ['2015->Normal',\n",
      "         '2016->Normal',\n",
      "         '2017->Surge',\n",
      "         '2018->Normal',\n",
      "         '2019->Normal'],\n",
      " 'NER': ['2016->Normal', '2017->Normal', '2018->Normal', '2019->Normal'],\n",
      " 'NGA': ['2016->Normal', '2017->Normal', '2019->Normal'],\n",
      " 'SDN': ['2015->Normal',\n",
      "         '2016->Surge',\n",
      "         '2017->Normal',\n",
      "         '2018->Normal',\n",
      "         '2019->Normal'],\n",
      " 'SOM': ['2015->Surge', '2016->Normal', '2019->Normal'],\n",
      " 'SSD': ['2015->Surge',\n",
      "         '2016->Surge',\n",
      "         '2017->Surge',\n",
      "         '2018->Normal',\n",
      "         '2019->Normal'],\n",
      " 'SYR': ['2015->Surge', '2016->Surge', '2017->Surge', '2019->Normal'],\n",
      " 'TCD': ['2015->Normal',\n",
      "         '2016->Normal',\n",
      "         '2017->Normal',\n",
      "         '2018->Normal',\n",
      "         '2019->Normal'],\n",
      " 'UKR': ['2016->Normal', '2017->Normal', '2018->Normal', '2019->Normal'],\n",
      " 'VEN': ['2015->Normal', '2016->Normal', '2019->Normal'],\n",
      " 'YEM': ['2015->Surge', '2018->Surge', '2019->Normal']}\n"
     ]
    }
   ],
   "source": [
    "from pprint import pprint\n",
    "\n",
    "print(\"Misclassifications: \")\n",
    "res = {}\n",
    "for p, t, idx in zip(y_pred, y_test, y_test.index):\n",
    "    if p != t:\n",
    "        ccode = data.loc[idx]['Country Code']\n",
    "        yr = data.loc[idx]['year']\n",
    "        tst = 'Surge' if t else 'Normal'\n",
    "        try:\n",
    "            res[ccode].append(\"{}->{}\".format(yr, tst))\n",
    "        except KeyError:\n",
    "            res[ccode] = [\"{}->{}\".format(yr, tst)]\n",
    "            \n",
    "pprint(res)\n",
    "\n",
    "        \n",
    "print(\"\\nCorrectly classified: \")\n",
    "res = {}\n",
    "for p, t, idx in zip(y_pred, y_test, y_test.index):\n",
    "    if p == t:\n",
    "        ccode = data.loc[idx]['Country Code']\n",
    "        yr = data.loc[idx]['year']\n",
    "        tst = 'Surge' if t else 'Normal'\n",
    "        try:\n",
    "            res[ccode].append(\"{}->{}\".format(yr, tst))\n",
    "        except KeyError:\n",
    "            res[ccode] = [\"{}->{}\".format(yr, tst)]\n",
    "pprint(res)"
   ]
  },
  {
   "cell_type": "code",
   "execution_count": 170,
   "metadata": {},
   "outputs": [
    {
     "name": "stdout",
     "output_type": "stream",
     "text": [
      "              precision    recall  f1-score   support\n",
      "\n",
      "       False       0.90      0.98      0.94        91\n",
      "        True       0.92      0.71      0.80        34\n",
      "\n",
      "    accuracy                           0.90       125\n",
      "   macro avg       0.91      0.84      0.87       125\n",
      "weighted avg       0.91      0.90      0.90       125\n",
      "\n"
     ]
    }
   ],
   "source": [
    "print(classification_report(y_test, y_pred));"
   ]
  },
  {
   "cell_type": "code",
   "execution_count": 133,
   "metadata": {},
   "outputs": [
    {
     "data": {
      "image/png": "[encoded data removed]",
      "text/plain": [
       "<Figure size 432x288 with 1 Axes>"
      ]
     },
     "metadata": {
      "needs_background": "light"
     },
     "output_type": "display_data"
    }
   ],
   "source": [
    "idx = data['Country Code'] == 'MMR'\n",
    "\n",
    "# y = 100000 * data['DRC.TOT.DISP'] / data[\"SP.POP.TOTL\"]\n",
    "y = 100000 * data['DRC.TOT.DISP'] / data[\"SP.POP.TOTL\"]\n",
    "\n",
    "\n",
    "plt.plot(data.loc[idx, 'year'], y[idx])\n",
    "plt.xlabel('year')\n",
    "plt.ylabel(\"Displacement per 100K\")\n",
    "plt.title('Myanmar');"
   ]
  },
  {
   "cell_type": "code",
   "execution_count": null,
   "metadata": {},
   "outputs": [],
   "source": []
  }
 ],
 "metadata": {
  "kernelspec": {
   "display_name": "mm4sight",
   "language": "python",
   "name": "mm4sight"
  },
  "language_info": {
   "codemirror_mode": {
    "name": "ipython",
    "version": 3
   },
   "file_extension": ".py",
   "mimetype": "text/x-python",
   "name": "python",
   "nbconvert_exporter": "python",
   "pygments_lexer": "ipython3",
   "version": "3.7.4"
  }
 },
 "nbformat": 4,
 "nbformat_minor": 2
}
