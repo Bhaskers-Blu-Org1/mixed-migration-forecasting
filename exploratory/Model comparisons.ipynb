{
 "cells": [
  {
   "cell_type": "code",
   "execution_count": 25,
   "metadata": {},
   "outputs": [],
   "source": [
    "import os\n",
    "import json\n",
    "import pandas as pd\n",
    "import numpy as np\n",
    "from time import time\n",
    "\n",
    "from  pomegranate  import BayesianNetwork\n",
    "import pygraphviz\n",
    "import networkx\n",
    "import tempfile\n",
    "\n",
    "import seaborn as sns\n",
    "import matplotlib.image as mpl_image\n",
    "import matplotlib.pyplot as plt\n",
    "\n",
    "%matplotlib inline \n",
    "sns.set(style=\"white\")\n",
    "\n",
    "import glob\n",
    "\n",
    "f = \"../2*.model*.json\"\n",
    "\n",
    "models = glob.glob(f)\n",
    "\n",
    "# Get the domain expert network\n",
    "with open(\"../model/bayesnetwork/network.json\", 'rt') as infile:\n",
    "    net = json.load(infile)\n",
    "clus = {i: lbl for lbl, indsets in net['nodes'].items() for i in indsets}"
   ]
  },
  {
   "cell_type": "code",
   "execution_count": 27,
   "metadata": {},
   "outputs": [],
   "source": [
    "def plot_network(model, net, label):\n",
    "    \"\"\" Plots a learnt BN model with SME network (net) \"\"\"\n",
    "    \n",
    "    G = pygraphviz.AGraph(directed=True, strict=False)\n",
    "    for nodes, _ in net['nodes'].items():\n",
    "        G.add_node(nodes)\n",
    "\n",
    "    for src, destinations in net['edges'].items():\n",
    "        for des in destinations:\n",
    "            G.add_edge(src, des, style='dotted', color='red')\n",
    "\n",
    "\n",
    "    # Get the learnt structure \n",
    "    #with open(\"model.json\", 'rt') as infile:\n",
    "    #    mj = infile.read()\n",
    "\n",
    "    #model = BayesianNetwork.from_json(mj)\n",
    "    print(\"Model with {} edges.\".format(model.edge_count()))\n",
    "\n",
    "    data_links = []\n",
    "    for parent, child in model.edges:\n",
    "\n",
    "        try:\n",
    "            i = clus[parent.name]\n",
    "\n",
    "\n",
    "            try:\n",
    "                j = clus[child.name]\n",
    "\n",
    "                if (i, j) not in data_links:\n",
    "                    data_links.append((i, j))\n",
    "\n",
    "            except KeyError:\n",
    "                G.add_node(child.name)\n",
    "                data_links.append((i, child.name))\n",
    "\n",
    "        except KeyError:\n",
    "\n",
    "            try:\n",
    "                j = clus[child.name]\n",
    "\n",
    "                G.add_node(parent.name)\n",
    "                data_links.append((parent.name, j))\n",
    "\n",
    "            except KeyError:\n",
    "\n",
    "                continue\n",
    "\n",
    "    for i, j in data_links:\n",
    "        G.add_edge(i, j, style='solid', penwidth='2', color='blue')\n",
    "\n",
    "\n",
    "    with open(\"img/{}.png\".format(label), 'wb') as tf:\n",
    "        G.draw(tf, format='png', prog='dot')"
   ]
  },
  {
   "cell_type": "code",
   "execution_count": 42,
   "metadata": {},
   "outputs": [
    {
     "name": "stdout",
     "output_type": "stream",
     "text": [
      "Model with 25 edges.\n",
      "Model with 17 edges.\n",
      "Model with 25 edges.\n"
     ]
    }
   ],
   "source": [
    "def get_label(m):\n",
    "    algo = m.split('.')[3].split('-')[1]\n",
    "    g = m.split('.')[3].split('-')[2]\n",
    "    grap = 'Constrained' if g == 'True' else 'Unconstrained'\n",
    "    return \"{} {}\".format(algo.title(), grap)\n",
    "    \n",
    "for m in models:\n",
    "    with open(m, 'rt') as infile:\n",
    "        mj = infile.read()\n",
    "    \n",
    "    model = BayesianNetwork.from_json(mj)\n",
    "    lbl = get_label(m)\n",
    "    plot_network(model, net, lbl)"
   ]
  },
  {
   "cell_type": "markdown",
   "metadata": {},
   "source": [
    "# The networks\n",
    "\n",
    "Here the plots from the structure learning task.\n",
    "\n",
    "\n",
    "## The Greedy Constrained case\n",
    "\n",
    "<img src=\"img/Greedy Constrained.png\" width=\"80%\">\n",
    "\n",
    "## The Exact Constrained one\n",
    "<img src=\"img/Exact Constrained.png\" width=\"80%\">\n",
    "\n",
    "This doesn't appear to make much sense.\n",
    "\n",
    "## The Exact Unconstrained one\n",
    "<img src=\"img/Exact Unconstrained.png\" width=\"80%\">\n",
    "\n",
    "\n",
    "\n"
   ]
  },
  {
   "cell_type": "markdown",
   "metadata": {},
   "source": [
    "# Inference tasks"
   ]
  },
  {
   "cell_type": "code",
   "execution_count": 48,
   "metadata": {},
   "outputs": [],
   "source": [
    "# Reload the raw dataset used in structure learning\n",
    "import pandas as pd\n",
    "df = pd.read_pickle(\"df.pkl\")"
   ]
  },
  {
   "cell_type": "code",
   "execution_count": 50,
   "metadata": {},
   "outputs": [
    {
     "data": {
      "text/plain": [
       "Indicator Code\n",
       "SP.POP.GROW                                worse\n",
       "SP.URB.GROW                                worse\n",
       "NY.GDP.PCAP.PP.CD                           best\n",
       "SI.POV.GINI                                 good\n",
       "SL.UEM.TOTL.ZS                              best\n",
       "TRI.CORR.INDEX                              best\n",
       "VC.BTL.DETH                                 poor\n",
       "VDEM.FRD.POL.KILL                           good\n",
       "UC.FAT.CIV                                 worse\n",
       "HR.SCR.MEAN                                worse\n",
       "FSI.STA.LEG                              average\n",
       "FSI.PUB.SER                                 poor\n",
       "EMDAT.NAT.OCCURRENCE                        poor\n",
       "EMDAT.NAT.TOTAL.AFFECTED                   worse\n",
       "ADESA                                       good\n",
       "DRC.TOT.DISP                (3159.743, 6702.945]\n",
       "Name: (MMR, 2017), dtype: object"
      ]
     },
     "execution_count": 50,
     "metadata": {},
     "output_type": "execute_result"
    }
   ],
   "source": [
    "df.loc[('MMR', 2017)]"
   ]
  },
  {
   "cell_type": "code",
   "execution_count": 44,
   "metadata": {},
   "outputs": [],
   "source": [
    "with open('../20200319140828.model-greedy-True.json', 'rt') as infile:\n",
    "        mj = infile.read()\n",
    "    \n",
    "model = BayesianNetwork.from_json(mj)"
   ]
  },
  {
   "cell_type": "code",
   "execution_count": 82,
   "metadata": {},
   "outputs": [
    {
     "data": {
      "text/plain": [
       "array(['worse', 'worse', 'best', 'good', 'best', 'best', 'poor', 'good',\n",
       "       'worse', 'worse', 'average', 'poor', 'poor', 'worse', 'good',\n",
       "       {\n",
       "    \"class\" :\"Distribution\",\n",
       "    \"dtype\" :\"str\",\n",
       "    \"name\" :\"DiscreteDistribution\",\n",
       "    \"parameters\" :[\n",
       "        {\n",
       "            \"(-0.001, 0.0919]\" :0.0,\n",
       "            \"(23.05, 127.664]\" :0.0,\n",
       "            \"(0.0919, 5.565]\" :0.030000000000000127,\n",
       "            \"(127.664, 633.824]\" :0.05000000000000009,\n",
       "            \"(6702.945, 11172.9]\" :0.2199999999999997,\n",
       "            \"(11172.9, 77618.945]\" :0.25499999999999967,\n",
       "            \"(1355.364, 3159.743]\" :0.17999999999999985,\n",
       "            \"(3159.743, 6702.945]\" :0.1599999999999998,\n",
       "            \"(633.824, 1355.364]\" :0.09000000000000002,\n",
       "            \"(5.565, 23.05]\" :0.015000000000000187\n",
       "        }\n",
       "    ],\n",
       "    \"frozen\" :false\n",
       "}], dtype=object)"
      ]
     },
     "execution_count": 82,
     "metadata": {},
     "output_type": "execute_result"
    }
   ],
   "source": [
    "tmp = df.loc[('MMR', 2017)].copy(deep=True)\n",
    "tmp['DRC.TOT.DISP'] = None\n",
    "model.predict_proba(tmp.to_list())"
   ]
  },
  {
   "cell_type": "code",
   "execution_count": 90,
   "metadata": {},
   "outputs": [
    {
     "data": {
      "text/plain": [
       "array(['worse', 'worse', 'worse', 'worse', 'worse', 'worse', 'worse',\n",
       "       'worse', 'worse', 'worse', 'worse', 'worse', 'worse', 'worse',\n",
       "       'worse',\n",
       "       {\n",
       "    \"class\" :\"Distribution\",\n",
       "    \"dtype\" :\"str\",\n",
       "    \"name\" :\"DiscreteDistribution\",\n",
       "    \"parameters\" :[\n",
       "        {\n",
       "            \"(-0.001, 0.0919]\" :0.0,\n",
       "            \"(23.05, 127.664]\" :0.0,\n",
       "            \"(0.0919, 5.565]\" :0.030000000000000127,\n",
       "            \"(127.664, 633.824]\" :0.05000000000000009,\n",
       "            \"(6702.945, 11172.9]\" :0.2199999999999997,\n",
       "            \"(11172.9, 77618.945]\" :0.25499999999999967,\n",
       "            \"(1355.364, 3159.743]\" :0.17999999999999985,\n",
       "            \"(3159.743, 6702.945]\" :0.1599999999999998,\n",
       "            \"(633.824, 1355.364]\" :0.09000000000000002,\n",
       "            \"(5.565, 23.05]\" :0.015000000000000187\n",
       "        }\n",
       "    ],\n",
       "    \"frozen\" :false\n",
       "}], dtype=object)"
      ]
     },
     "execution_count": 90,
     "metadata": {},
     "output_type": "execute_result"
    }
   ],
   "source": [
    "scenario = tmp.copy(deep=True)\n",
    "\n",
    "scenario['TRI.CORR.INDEX'] = 'worse'\n",
    "scenario['SL.UEM.TOTL.ZS'] = 'worse'\n",
    "scenario['NY.GDP.PCAP.PP.CD'] = 'worse'\n",
    "scenario['SI.POV.GINI'] = 'worse'\n",
    "\n",
    "#model.predict_proba(scenario.to_list())\n",
    "model.predict_proba(['worse', 'worse', 'worse', 'worse', 'worse', 'worse', 'worse',\n",
    "       'worse', 'worse', 'worse', 'worse', 'worse', 'worse', 'worse',\n",
    "       'worse', None])"
   ]
  },
  {
   "cell_type": "code",
   "execution_count": 93,
   "metadata": {},
   "outputs": [
    {
     "data": {
      "text/plain": [
       "array(['best', 'best', 'best', 'best', 'best', 'best', 'best', 'best',\n",
       "       'best', 'best', 'best', 'best', 'best', 'best', 'best',\n",
       "       {\n",
       "    \"class\" :\"Distribution\",\n",
       "    \"dtype\" :\"str\",\n",
       "    \"name\" :\"DiscreteDistribution\",\n",
       "    \"parameters\" :[\n",
       "        {\n",
       "            \"(-0.001, 0.0919]\" :0.17499999999999985,\n",
       "            \"(23.05, 127.664]\" :0.2099999999999997,\n",
       "            \"(0.0919, 5.565]\" :0.1549999999999999,\n",
       "            \"(127.664, 633.824]\" :0.0750000000000001,\n",
       "            \"(6702.945, 11172.9]\" :0.03000000000000013,\n",
       "            \"(11172.9, 77618.945]\" :0.060000000000000095,\n",
       "            \"(1355.364, 3159.743]\" :0.010000000000000196,\n",
       "            \"(3159.743, 6702.945]\" :0.05500000000000014,\n",
       "            \"(633.824, 1355.364]\" :0.0500000000000001,\n",
       "            \"(5.565, 23.05]\" :0.17999999999999988\n",
       "        }\n",
       "    ],\n",
       "    \"frozen\" :false\n",
       "}], dtype=object)"
      ]
     },
     "execution_count": 93,
     "metadata": {},
     "output_type": "execute_result"
    }
   ],
   "source": [
    "model.predict_proba(['best', 'best','best','best','best','best','best',\n",
    "                     'best','best','best','best','best','best','best', 'best', None])"
   ]
  },
  {
   "cell_type": "code",
   "execution_count": 92,
   "metadata": {},
   "outputs": [
    {
     "data": {
      "text/plain": [
       "16"
      ]
     },
     "execution_count": 92,
     "metadata": {},
     "output_type": "execute_result"
    }
   ],
   "source": [
    "len(tmp)"
   ]
  },
  {
   "cell_type": "code",
   "execution_count": null,
   "metadata": {},
   "outputs": [],
   "source": []
  }
 ],
 "metadata": {
  "kernelspec": {
   "display_name": "Python 3.7.4 64-bit ('mm4sight': conda)",
   "language": "python",
   "name": "python37464bitmm4sightconda70c1d050f14a4700941a7389948453aa"
  },
  "language_info": {
   "codemirror_mode": {
    "name": "ipython",
    "version": 3
   },
   "file_extension": ".py",
   "mimetype": "text/x-python",
   "name": "python",
   "nbconvert_exporter": "python",
   "pygments_lexer": "ipython3",
   "version": "3.7.4"
  }
 },
 "nbformat": 4,
 "nbformat_minor": 2
}
