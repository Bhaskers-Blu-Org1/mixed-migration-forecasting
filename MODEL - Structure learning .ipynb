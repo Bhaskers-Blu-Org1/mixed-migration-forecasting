{
 "cells": [
  {
   "cell_type": "markdown",
   "metadata": {
    "toc": true
   },
   "source": [
    "<h1>Table of Contents<span class=\"tocSkip\"></span></h1>\n",
    "<div class=\"toc\"><ul class=\"toc-item\"><li><span><a href=\"#Fetch-data\" data-toc-modified-id=\"Fetch-data-1\"><span class=\"toc-item-num\">1&nbsp;&nbsp;</span>Fetch data</a></span></li><li><span><a href=\"#Structure-learning\" data-toc-modified-id=\"Structure-learning-2\"><span class=\"toc-item-num\">2&nbsp;&nbsp;</span>Structure learning</a></span></li></ul></div>"
   ]
  },
  {
   "cell_type": "code",
   "execution_count": 1,
   "metadata": {
    "collapsed": false
   },
   "outputs": [],
   "source": [
    "import os\n",
    "import json\n",
    "import pandas as pd\n",
    "import numpy as np\n",
    "\n",
    "from  pomegranate  import BayesianNetwork\n",
    "import pygraphviz\n",
    "import tempfile\n",
    "import matplotlib.image as mpl_image\n",
    "import matplotlib.pyplot as plt\n",
    "from time import time\n",
    "\n",
    "%matplotlib inline"
   ]
  },
  {
   "cell_type": "markdown",
   "metadata": {},
   "source": [
    "# Fetch data\n",
    "\n",
    "Assemble the processed/harmonized datasets for analysis. We use the configuration file to determine which datasets to use."
   ]
  },
  {
   "cell_type": "code",
   "execution_count": 2,
   "metadata": {
    "collapsed": false
   },
   "outputs": [
    {
     "name": "stdout",
     "output_type": "stream",
     "text": [
      "Sources            : 3\n",
      "Row count          : 53443\n",
      "Geographies        : 294\n",
      "Indicators         : 16\n",
      "Temporal coverage  : 1960 -> 2018\n",
      "Null values        : 0\n",
      "\n",
      "Loaded data in 0.15 sec.\n"
     ]
    }
   ],
   "source": [
    "start_time = time()\n",
    "with open(\"../configuration.json\", 'rt') as infile:\n",
    "    config = json.load(infile)\n",
    "    \n",
    "sources = [os.path.join('..', config['paths']['output'], d['name'], 'data.csv') for d in config['sources']]\n",
    "\n",
    "# Generate a data frame with all indicators\n",
    "df = pd.concat((pd.read_csv(f) for f in sources), ignore_index=True)\n",
    "\n",
    "# Summary stats\n",
    "print(\"Sources            : {}\".format(len(sources)))\n",
    "print(\"Row count          : {}\".format(len(df)))\n",
    "print(\"Geographies        : {}\".format(len(df['Country Name'].unique())))\n",
    "print(\"Indicators         : {}\".format(len(df['Indicator Code'].unique())))\n",
    "print(\"Temporal coverage  : {} -> {}\".format(df.year.min(), df.year.max()))\n",
    "print(\"Null values        : {}\".format(sum(df['value'].isnull())))\n",
    "\n",
    "print(\"\\nLoaded data in {:3.2f} sec.\".format(time() - start_time))"
   ]
  },
  {
   "cell_type": "code",
   "execution_count": 3,
   "metadata": {
    "collapsed": false
   },
   "outputs": [
    {
     "data": {
      "text/plain": [
       "array(['Population, total',\n",
       "       'Renewable internal freshwater resources per capita (cubic meters)',\n",
       "       'GINI index (World Bank estimate)',\n",
       "       'Battle-related deaths (number of people)',\n",
       "       'GDP per capita, PPP (current international $)',\n",
       "       'Refugee population by country or territory of asylum',\n",
       "       'Refugee population by country or territory of origin',\n",
       "       'Refugees (incl. refugee-like situations)', 'Returnees',\n",
       "       'Internally displaced persons', 'Returned IDPs',\n",
       "       'Others of concern', 'Asylum-seekers', 'Stateless',\n",
       "       'ACLED total number of violent incidents annually.',\n",
       "       'ACLED number of fatalities annually from violence.'], dtype=object)"
      ]
     },
     "execution_count": 3,
     "metadata": {},
     "output_type": "execute_result"
    }
   ],
   "source": [
    "# Indicators being used\n",
    "df['Indicator Name'].unique()"
   ]
  },
  {
   "cell_type": "markdown",
   "metadata": {},
   "source": [
    "# Structure learning\n",
    "\n",
    "Now we aim to learn the causual network of these development indicators. The causal network is a DAG (directed acyclic graph) that aims at showing relationships between two indicators. This is expensive to learn, particularly if there are greater than 25 indicators. \n",
    "\n",
    "Additionally `pomegranate` only supports discrete distributions for now. "
   ]
  },
  {
   "cell_type": "code",
   "execution_count": 3,
   "metadata": {
    "collapsed": false
   },
   "outputs": [
    {
     "data": {
      "text/html": [
       "<div>\n",
       "<style scoped>\n",
       "    .dataframe tbody tr th:only-of-type {\n",
       "        vertical-align: middle;\n",
       "    }\n",
       "\n",
       "    .dataframe tbody tr th {\n",
       "        vertical-align: top;\n",
       "    }\n",
       "\n",
       "    .dataframe thead th {\n",
       "        text-align: right;\n",
       "    }\n",
       "</style>\n",
       "<table border=\"1\" class=\"dataframe\">\n",
       "  <thead>\n",
       "    <tr style=\"text-align: right;\">\n",
       "      <th></th>\n",
       "      <th>Indicator Code</th>\n",
       "      <th>ACLED.COUNT</th>\n",
       "      <th>ACLED.FATALITIES</th>\n",
       "      <th>ER.H2O.INTR.PC</th>\n",
       "      <th>NY.GDP.PCAP.PP.CD</th>\n",
       "      <th>SI.POV.GINI</th>\n",
       "      <th>SM.POP.REFG</th>\n",
       "      <th>SM.POP.REFG.OR</th>\n",
       "      <th>SP.POP.TOTL</th>\n",
       "      <th>UNHCR.OUT.AS</th>\n",
       "      <th>UNHCR.OUT.IDP</th>\n",
       "      <th>UNHCR.OUT.OOC</th>\n",
       "      <th>UNHCR.OUT.REF</th>\n",
       "      <th>UNHCR.OUT.RET</th>\n",
       "      <th>UNHCR.OUT.RETIDP</th>\n",
       "      <th>UNHCR.OUT.STLS</th>\n",
       "      <th>VC.BTL.DETH</th>\n",
       "    </tr>\n",
       "    <tr>\n",
       "      <th>Country Code</th>\n",
       "      <th>year</th>\n",
       "      <th></th>\n",
       "      <th></th>\n",
       "      <th></th>\n",
       "      <th></th>\n",
       "      <th></th>\n",
       "      <th></th>\n",
       "      <th></th>\n",
       "      <th></th>\n",
       "      <th></th>\n",
       "      <th></th>\n",
       "      <th></th>\n",
       "      <th></th>\n",
       "      <th></th>\n",
       "      <th></th>\n",
       "      <th></th>\n",
       "      <th></th>\n",
       "    </tr>\n",
       "  </thead>\n",
       "  <tbody>\n",
       "    <tr>\n",
       "      <th rowspan=\"5\" valign=\"top\">ABW</th>\n",
       "      <th>1960</th>\n",
       "      <td>NaN</td>\n",
       "      <td>NaN</td>\n",
       "      <td>NaN</td>\n",
       "      <td>NaN</td>\n",
       "      <td>NaN</td>\n",
       "      <td>NaN</td>\n",
       "      <td>NaN</td>\n",
       "      <td>4.0</td>\n",
       "      <td>NaN</td>\n",
       "      <td>NaN</td>\n",
       "      <td>NaN</td>\n",
       "      <td>NaN</td>\n",
       "      <td>NaN</td>\n",
       "      <td>NaN</td>\n",
       "      <td>NaN</td>\n",
       "      <td>NaN</td>\n",
       "    </tr>\n",
       "    <tr>\n",
       "      <th>1961</th>\n",
       "      <td>NaN</td>\n",
       "      <td>NaN</td>\n",
       "      <td>NaN</td>\n",
       "      <td>NaN</td>\n",
       "      <td>NaN</td>\n",
       "      <td>NaN</td>\n",
       "      <td>NaN</td>\n",
       "      <td>4.0</td>\n",
       "      <td>NaN</td>\n",
       "      <td>NaN</td>\n",
       "      <td>NaN</td>\n",
       "      <td>NaN</td>\n",
       "      <td>NaN</td>\n",
       "      <td>NaN</td>\n",
       "      <td>NaN</td>\n",
       "      <td>NaN</td>\n",
       "    </tr>\n",
       "    <tr>\n",
       "      <th>1962</th>\n",
       "      <td>NaN</td>\n",
       "      <td>NaN</td>\n",
       "      <td>NaN</td>\n",
       "      <td>NaN</td>\n",
       "      <td>NaN</td>\n",
       "      <td>NaN</td>\n",
       "      <td>NaN</td>\n",
       "      <td>4.0</td>\n",
       "      <td>NaN</td>\n",
       "      <td>NaN</td>\n",
       "      <td>NaN</td>\n",
       "      <td>NaN</td>\n",
       "      <td>NaN</td>\n",
       "      <td>NaN</td>\n",
       "      <td>NaN</td>\n",
       "      <td>NaN</td>\n",
       "    </tr>\n",
       "    <tr>\n",
       "      <th>1963</th>\n",
       "      <td>NaN</td>\n",
       "      <td>NaN</td>\n",
       "      <td>NaN</td>\n",
       "      <td>NaN</td>\n",
       "      <td>NaN</td>\n",
       "      <td>NaN</td>\n",
       "      <td>NaN</td>\n",
       "      <td>4.0</td>\n",
       "      <td>NaN</td>\n",
       "      <td>NaN</td>\n",
       "      <td>NaN</td>\n",
       "      <td>NaN</td>\n",
       "      <td>NaN</td>\n",
       "      <td>NaN</td>\n",
       "      <td>NaN</td>\n",
       "      <td>NaN</td>\n",
       "    </tr>\n",
       "    <tr>\n",
       "      <th>1964</th>\n",
       "      <td>NaN</td>\n",
       "      <td>NaN</td>\n",
       "      <td>NaN</td>\n",
       "      <td>NaN</td>\n",
       "      <td>NaN</td>\n",
       "      <td>NaN</td>\n",
       "      <td>NaN</td>\n",
       "      <td>4.0</td>\n",
       "      <td>NaN</td>\n",
       "      <td>NaN</td>\n",
       "      <td>NaN</td>\n",
       "      <td>NaN</td>\n",
       "      <td>NaN</td>\n",
       "      <td>NaN</td>\n",
       "      <td>NaN</td>\n",
       "      <td>NaN</td>\n",
       "    </tr>\n",
       "  </tbody>\n",
       "</table>\n",
       "</div>"
      ],
      "text/plain": [
       "Indicator Code     ACLED.COUNT  ACLED.FATALITIES  ER.H2O.INTR.PC  \\\n",
       "Country Code year                                                  \n",
       "ABW          1960          NaN               NaN             NaN   \n",
       "             1961          NaN               NaN             NaN   \n",
       "             1962          NaN               NaN             NaN   \n",
       "             1963          NaN               NaN             NaN   \n",
       "             1964          NaN               NaN             NaN   \n",
       "\n",
       "Indicator Code     NY.GDP.PCAP.PP.CD  SI.POV.GINI  SM.POP.REFG  \\\n",
       "Country Code year                                                \n",
       "ABW          1960                NaN          NaN          NaN   \n",
       "             1961                NaN          NaN          NaN   \n",
       "             1962                NaN          NaN          NaN   \n",
       "             1963                NaN          NaN          NaN   \n",
       "             1964                NaN          NaN          NaN   \n",
       "\n",
       "Indicator Code     SM.POP.REFG.OR  SP.POP.TOTL  UNHCR.OUT.AS  UNHCR.OUT.IDP  \\\n",
       "Country Code year                                                             \n",
       "ABW          1960             NaN          4.0           NaN            NaN   \n",
       "             1961             NaN          4.0           NaN            NaN   \n",
       "             1962             NaN          4.0           NaN            NaN   \n",
       "             1963             NaN          4.0           NaN            NaN   \n",
       "             1964             NaN          4.0           NaN            NaN   \n",
       "\n",
       "Indicator Code     UNHCR.OUT.OOC  UNHCR.OUT.REF  UNHCR.OUT.RET  \\\n",
       "Country Code year                                                \n",
       "ABW          1960            NaN            NaN            NaN   \n",
       "             1961            NaN            NaN            NaN   \n",
       "             1962            NaN            NaN            NaN   \n",
       "             1963            NaN            NaN            NaN   \n",
       "             1964            NaN            NaN            NaN   \n",
       "\n",
       "Indicator Code     UNHCR.OUT.RETIDP  UNHCR.OUT.STLS  VC.BTL.DETH  \n",
       "Country Code year                                                 \n",
       "ABW          1960               NaN             NaN          NaN  \n",
       "             1961               NaN             NaN          NaN  \n",
       "             1962               NaN             NaN          NaN  \n",
       "             1963               NaN             NaN          NaN  \n",
       "             1964               NaN             NaN          NaN  "
      ]
     },
     "execution_count": 3,
     "metadata": {},
     "output_type": "execute_result"
    }
   ],
   "source": [
    "# Data transformations for structure learning\n",
    "\n",
    "# Organize the indicators in \"long form\"\n",
    "data = pd.pivot_table(df, index=['Country Code', 'year'],\n",
    "                      columns='Indicator Code', values='value')\n",
    "\n",
    "# Discretization scheme\n",
    "\n",
    "# TODO: This is primitive, consider:\n",
    "# - (min-max) after looking at the distributions\n",
    "# - https://arxiv.org/pdf/1512.02406.pdf \n",
    "\n",
    "def discretization(x, BINS=10):\n",
    "    \"\"\" Discretize indicators \"\"\"\n",
    "    return pd.cut(x, BINS, labels=False)\n",
    "    \n",
    "\n",
    "X = data.apply(discretization, axis=1)\n",
    "\n",
    "X.head()"
   ]
  },
  {
   "cell_type": "code",
   "execution_count": 7,
   "metadata": {
    "collapsed": false
   },
   "outputs": [
    {
     "name": "stdout",
     "output_type": "stream",
     "text": [
      "Structure learning in 169.28 sec.\n"
     ]
    }
   ],
   "source": [
    "# Model learning\n",
    "start_time = time()\n",
    "model = BayesianNetwork.from_samples(X, \n",
    "                                     algorithm='greedy', \n",
    "                                     state_names=X.columns, \n",
    "                                     #max_parents=2,\n",
    "                                     n_jobs=4)\n",
    "print(\"Structure learning in {:3.2f} sec.\".format(time() - start_time))"
   ]
  },
  {
   "cell_type": "code",
   "execution_count": 20,
   "metadata": {
    "collapsed": true
   },
   "outputs": [],
   "source": [
    "# Model plot\n",
    "import matplotlib as mpl\n",
    "mpl.rcParams['figure.figsize'] = (20, 20)\n",
    "\n",
    "def plot_model(model):\n",
    "    \"\"\" Helper function - since I can't get the built in methods to work \"\"\"\n",
    "    \n",
    "    G = pygraphviz.AGraph(directed=True)\n",
    "    \n",
    "    G.node_attr['fontsize'] = '20'\n",
    "    #G.node_attr['fontcolor']='#FFFFFF'\n",
    "    \n",
    "    for state in model.states:\n",
    "        G.add_node(state.name, color='blue', shape='circle')\n",
    "\n",
    "    for parent, child in model.edges:\n",
    "        G.add_edge(parent.name, child.name, color='blue')\n",
    "\n",
    "    \"\"\"\n",
    "    with tempfile.NamedTemporaryFile() as tf:\n",
    "        G.draw(tf.name, format='png', prog='dot')\n",
    "        img = mpl_image.imread(tf.name)\n",
    "        plt.imshow(img)\n",
    "        plt.axis('off')\n",
    "        plt.savefig(\"test.png\")\n",
    "    \"\"\"\n",
    "    with open(\"test.png\", 'wb') as tf:\n",
    "        G.draw(tf, format='png', prog='dot')\n",
    "\n",
    "def plot_networkx(Q, edge_label=None, filename=None):\n",
    "    G = pygraphviz.AGraph(directed=True)\n",
    "\n",
    "    for state in Q.nodes():\n",
    "        G.add_node(state, color='red')\n",
    "\n",
    "    for parent, child, data in Q.edges(data=True):\n",
    "        if edge_label:\n",
    "            G.add_edge(parent, child, label=data[edge_label])\n",
    "        else:\n",
    "            G.add_edge(parent, child)\n",
    "\n",
    "\n",
    "    with tempfile.NamedTemporaryFile() as tf:\n",
    "        G.draw(tf.name, format='png', prog='dot')\n",
    "        img = matplotlib.image.imread(tf.name)\n",
    "        plt.imshow(img)\n",
    "        plt.axis('off')\n",
    "        "
   ]
  },
  {
   "cell_type": "code",
   "execution_count": 21,
   "metadata": {
    "collapsed": false
   },
   "outputs": [],
   "source": [
    "plot_model(model)"
   ]
  },
  {
   "cell_type": "code",
   "execution_count": 123,
   "metadata": {
    "collapsed": false
   },
   "outputs": [
    {
     "name": "stdout",
     "output_type": "stream",
     "text": [
      "Structure learning (constrained) in 16.65 sec.\n"
     ]
    }
   ],
   "source": [
    "# Constrained version of structure learning \n",
    "import networkx\n",
    "\n",
    "def column_index(lbl, l):\n",
    "    try:\n",
    "        return l.index(lbl)\n",
    "    except ValueError:\n",
    "        print(\"{} is not in list.\".format(lbl))\n",
    "        pass\n",
    "\n",
    "\n",
    "a = networkx.DiGraph()\n",
    "DISPLACEMENT = (\"VC.IDP.NWCV\", \"SM.POP.REFG.OR\")\n",
    "ECON_DRIVERS = (\"SI.POV.GINI\", \"NY.GDP.PCAP.PP.CD\")\n",
    "#EDU_DRIVERS = tuple((\"SE.PRM.CMPT.ZS\",))\n",
    "CONF_DRIVERS = tuple((\"VC.BTL.DETH\",))\n",
    "SOCIAL_DRIVERS = (\"ER.H2O.INTR.PC\", \"per_sa_allsa.cov_pop_tot\" )\n",
    "\n",
    "columns = X.columns.tolist()\n",
    "\n",
    "# Constraint graph only takes integers\n",
    "DISPLACEMENT_IDX = tuple(map(lambda p: column_index(p, columns), DISPLACEMENT))\n",
    "ECON_DRIVERS_IDX = tuple(map(lambda p: column_index(p, columns), ECON_DRIVERS))\n",
    "#EDU_DRIVERS_IDX = tuple(map(lambda p: column_index(p, columns), EDU_DRIVERS))\n",
    "CONF_DRIVERS_IDX = tuple(map(lambda p: column_index(p, columns), CONF_DRIVERS))\n",
    "SOCIAL_DRIVERS_IDX = tuple(map(lambda p: column_index(p, columns), SOCIAL_DRIVERS))\n",
    "\n",
    "\n",
    "a.add_edge(ECON_DRIVERS_IDX, DISPLACEMENT_IDX)\n",
    "#a.add_edge(EDU__DRIVERS_IDX, DISPLACEMENT_IDX)\n",
    "a.add_edge(CONF_DRIVERS_IDX, DISPLACEMENT_IDX)\n",
    "a.add_edge(SOCIAL_DRIVERS_IDX, DISPLACEMENT_IDX)\n",
    "\n",
    "\n",
    "start_time = time()\n",
    "model = BayesianNetwork.from_samples(X, \n",
    "                                     algorithm='exact',\n",
    "                                     state_names=X.columns,\n",
    "                                     constraint_graph=a)\n",
    "print(\"Structure learning (constrained) in {:3.2f} sec.\".format(time() - start_time))\n"
   ]
  },
  {
   "cell_type": "code",
   "execution_count": 125,
   "metadata": {
    "collapsed": false
   },
   "outputs": [
    {
     "data": {
      "image/png": "[encoded data removed]",
      "text/plain": [
       "<Figure size 1152x648 with 1 Axes>"
      ]
     },
     "metadata": {},
     "output_type": "display_data"
    }
   ],
   "source": [
    "plot_model(model)"
   ]
  }
 ],
 "metadata": {
  "kernelspec": {
   "display_name": "Python3.6 (prm)",
   "language": "python",
   "name": "prm"
  },
  "language_info": {
   "codemirror_mode": {
    "name": "ipython",
    "version": 3
   },
   "file_extension": ".py",
   "mimetype": "text/x-python",
   "name": "python",
   "nbconvert_exporter": "python",
   "pygments_lexer": "ipython3",
   "version": "3.5.1"
  },
  "toc": {
   "nav_menu": {},
   "number_sections": true,
   "sideBar": true,
   "skip_h1_title": false,
   "title_cell": "Table of Contents",
   "title_sidebar": "Contents",
   "toc_cell": true,
   "toc_position": {},
   "toc_section_display": true,
   "toc_window_display": true
  },
  "varInspector": {
   "cols": {
    "lenName": 16,
    "lenType": 16,
    "lenVar": 40
   },
   "kernels_config": {
    "python": {
     "delete_cmd_postfix": "",
     "delete_cmd_prefix": "del ",
     "library": "var_list.py",
     "varRefreshCmd": "print(var_dic_list())"
    },
    "r": {
     "delete_cmd_postfix": ") ",
     "delete_cmd_prefix": "rm(",
     "library": "var_list.r",
     "varRefreshCmd": "cat(var_dic_list()) "
    }
   },
   "types_to_exclude": [
    "module",
    "function",
    "builtin_function_or_method",
    "instance",
    "_Feature"
   ],
   "window_display": false
  }
 },
 "nbformat": 4,
 "nbformat_minor": 2
}
